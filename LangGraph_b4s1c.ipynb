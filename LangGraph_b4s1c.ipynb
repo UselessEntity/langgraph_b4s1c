{
  "nbformat": 4,
  "nbformat_minor": 0,
  "metadata": {
    "colab": {
      "provenance": [],
      "collapsed_sections": [
        "v4IY_TdGCJpS",
        "lkUqtcIXCUBD",
        "mduiZ8lVCd2y"
      ],
      "authorship_tag": "ABX9TyNHVunSMFdTW19rCnYvfy8h",
      "include_colab_link": true
    },
    "kernelspec": {
      "name": "python3",
      "display_name": "Python 3"
    },
    "language_info": {
      "name": "python"
    }
  },
  "cells": [
    {
      "cell_type": "markdown",
      "metadata": {
        "id": "view-in-github",
        "colab_type": "text"
      },
      "source": [
        "<a href=\"https://colab.research.google.com/github/UselessEntity/langgraph_b4s1c/blob/master/LangGraph_b4s1c.ipynb\" target=\"_parent\"><img src=\"https://colab.research.google.com/assets/colab-badge.svg\" alt=\"Open In Colab\"/></a>"
      ]
    },
    {
      "cell_type": "markdown",
      "source": [
        "# Download necessary packages"
      ],
      "metadata": {
        "id": "e_BulrJcHkT7"
      }
    },
    {
      "cell_type": "code",
      "execution_count": 1,
      "metadata": {
        "id": "-b5whJd8Av3z",
        "colab": {
          "base_uri": "https://localhost:8080/"
        },
        "outputId": "badca129-75ca-419d-e171-1ca5c89d49d5"
      },
      "outputs": [
        {
          "output_type": "stream",
          "name": "stdout",
          "text": [
            "\u001b[?25l   \u001b[90m━━━━━━━━━━━━━━━━━━━━━━━━━━━━━━━━━━━━━━━━\u001b[0m \u001b[32m0.0/1.8 MB\u001b[0m \u001b[31m?\u001b[0m eta \u001b[36m-:--:--\u001b[0m\r\u001b[2K   \u001b[91m━━━━\u001b[0m\u001b[90m╺\u001b[0m\u001b[90m━━━━━━━━━━━━━━━━━━━━━━━━━━━━━━━━━━━\u001b[0m \u001b[32m0.2/1.8 MB\u001b[0m \u001b[31m5.4 MB/s\u001b[0m eta \u001b[36m0:00:01\u001b[0m\r\u001b[2K   \u001b[91m━━━━━━━━━━━━━━━━━━━━━━━━━━\u001b[0m\u001b[90m╺\u001b[0m\u001b[90m━━━━━━━━━━━━━\u001b[0m \u001b[32m1.2/1.8 MB\u001b[0m \u001b[31m16.0 MB/s\u001b[0m eta \u001b[36m0:00:01\u001b[0m\r\u001b[2K   \u001b[90m━━━━━━━━━━━━━━━━━━━━━━━━━━━━━━━━━━━━━━━━\u001b[0m \u001b[32m1.8/1.8 MB\u001b[0m \u001b[31m15.9 MB/s\u001b[0m eta \u001b[36m0:00:00\u001b[0m\n",
            "\u001b[?25hRequirement already satisfied: langchain in /usr/local/lib/python3.11/dist-packages (0.3.26)\n",
            "Collecting langgraph\n",
            "  Downloading langgraph-0.5.3-py3-none-any.whl.metadata (6.9 kB)\n",
            "Requirement already satisfied: langchain-core in /usr/local/lib/python3.11/dist-packages (0.3.68)\n",
            "Collecting langchain-core\n",
            "  Downloading langchain_core-0.3.69-py3-none-any.whl.metadata (5.8 kB)\n",
            "Collecting langchain-community\n",
            "  Downloading langchain_community-0.3.27-py3-none-any.whl.metadata (2.9 kB)\n",
            "Requirement already satisfied: langsmith in /usr/local/lib/python3.11/dist-packages (0.4.4)\n",
            "Collecting langsmith\n",
            "  Downloading langsmith-0.4.6-py3-none-any.whl.metadata (15 kB)\n",
            "Collecting langgraph-cli\n",
            "  Downloading langgraph_cli-0.3.4-py3-none-any.whl.metadata (3.8 kB)\n",
            "Collecting langchain-openai\n",
            "  Downloading langchain_openai-0.3.28-py3-none-any.whl.metadata (2.3 kB)\n",
            "Collecting langchain-anthropic\n",
            "  Downloading langchain_anthropic-0.3.17-py3-none-any.whl.metadata (1.9 kB)\n",
            "Collecting langchain-xai\n",
            "  Downloading langchain_xai-0.2.4-py3-none-any.whl.metadata (1.1 kB)\n",
            "Requirement already satisfied: langchain-text-splitters<1.0.0,>=0.3.8 in /usr/local/lib/python3.11/dist-packages (from langchain) (0.3.8)\n",
            "Requirement already satisfied: pydantic<3.0.0,>=2.7.4 in /usr/local/lib/python3.11/dist-packages (from langchain) (2.11.7)\n",
            "Requirement already satisfied: SQLAlchemy<3,>=1.4 in /usr/local/lib/python3.11/dist-packages (from langchain) (2.0.41)\n",
            "Requirement already satisfied: requests<3,>=2 in /usr/local/lib/python3.11/dist-packages (from langchain) (2.32.3)\n",
            "Requirement already satisfied: PyYAML>=5.3 in /usr/local/lib/python3.11/dist-packages (from langchain) (6.0.2)\n",
            "Requirement already satisfied: tenacity!=8.4.0,<10.0.0,>=8.1.0 in /usr/local/lib/python3.11/dist-packages (from langchain-core) (8.5.0)\n",
            "Requirement already satisfied: jsonpatch<2.0,>=1.33 in /usr/local/lib/python3.11/dist-packages (from langchain-core) (1.33)\n",
            "Requirement already satisfied: typing-extensions>=4.7 in /usr/local/lib/python3.11/dist-packages (from langchain-core) (4.14.1)\n",
            "Requirement already satisfied: packaging>=23.2 in /usr/local/lib/python3.11/dist-packages (from langchain-core) (24.2)\n",
            "Requirement already satisfied: jsonpointer>=1.9 in /usr/local/lib/python3.11/dist-packages (from jsonpatch<2.0,>=1.33->langchain-core) (3.0.0)\n",
            "Requirement already satisfied: annotated-types>=0.6.0 in /usr/local/lib/python3.11/dist-packages (from pydantic<3.0.0,>=2.7.4->langchain) (0.7.0)\n",
            "Requirement already satisfied: pydantic-core==2.33.2 in /usr/local/lib/python3.11/dist-packages (from pydantic<3.0.0,>=2.7.4->langchain) (2.33.2)\n",
            "Requirement already satisfied: typing-inspection>=0.4.0 in /usr/local/lib/python3.11/dist-packages (from pydantic<3.0.0,>=2.7.4->langchain) (0.4.1)\n",
            "Requirement already satisfied: charset-normalizer<4,>=2 in /usr/local/lib/python3.11/dist-packages (from requests<3,>=2->langchain) (3.4.2)\n",
            "Requirement already satisfied: idna<4,>=2.5 in /usr/local/lib/python3.11/dist-packages (from requests<3,>=2->langchain) (3.10)\n",
            "Requirement already satisfied: urllib3<3,>=1.21.1 in /usr/local/lib/python3.11/dist-packages (from requests<3,>=2->langchain) (2.4.0)\n",
            "Requirement already satisfied: certifi>=2017.4.17 in /usr/local/lib/python3.11/dist-packages (from requests<3,>=2->langchain) (2025.7.9)\n",
            "Requirement already satisfied: greenlet>=1 in /usr/local/lib/python3.11/dist-packages (from SQLAlchemy<3,>=1.4->langchain) (3.2.3)\n",
            "Collecting langgraph-checkpoint<3.0.0,>=2.1.0 (from langgraph)\n",
            "  Downloading langgraph_checkpoint-2.1.0-py3-none-any.whl.metadata (4.2 kB)\n",
            "Collecting langgraph-prebuilt<0.6.0,>=0.5.0 (from langgraph)\n",
            "  Downloading langgraph_prebuilt-0.5.2-py3-none-any.whl.metadata (4.5 kB)\n",
            "Collecting langgraph-sdk<0.2.0,>=0.1.42 (from langgraph)\n",
            "  Downloading langgraph_sdk-0.1.73-py3-none-any.whl.metadata (1.5 kB)\n",
            "Requirement already satisfied: xxhash>=3.5.0 in /usr/local/lib/python3.11/dist-packages (from langgraph) (3.5.0)\n",
            "Collecting ormsgpack>=1.10.0 (from langgraph-checkpoint<3.0.0,>=2.1.0->langgraph)\n",
            "  Downloading ormsgpack-1.10.0-cp311-cp311-manylinux_2_17_x86_64.manylinux2014_x86_64.whl.metadata (43 kB)\n",
            "Requirement already satisfied: httpx>=0.25.2 in /usr/local/lib/python3.11/dist-packages (from langgraph-sdk<0.2.0,>=0.1.42->langgraph) (0.28.1)\n",
            "Requirement already satisfied: orjson>=3.10.1 in /usr/local/lib/python3.11/dist-packages (from langgraph-sdk<0.2.0,>=0.1.42->langgraph) (3.10.18)\n",
            "Requirement already satisfied: aiohttp<4.0.0,>=3.8.3 in /usr/local/lib/python3.11/dist-packages (from langchain-community) (3.11.15)\n",
            "Collecting dataclasses-json<0.7,>=0.5.7 (from langchain-community)\n",
            "  Downloading dataclasses_json-0.6.7-py3-none-any.whl.metadata (25 kB)\n",
            "Collecting pydantic-settings<3.0.0,>=2.4.0 (from langchain-community)\n",
            "  Downloading pydantic_settings-2.10.1-py3-none-any.whl.metadata (3.4 kB)\n",
            "Collecting httpx-sse<1.0.0,>=0.4.0 (from langchain-community)\n",
            "  Downloading httpx_sse-0.4.1-py3-none-any.whl.metadata (9.4 kB)\n",
            "Requirement already satisfied: numpy>=1.26.2 in /usr/local/lib/python3.11/dist-packages (from langchain-community) (2.0.2)\n",
            "Requirement already satisfied: aiohappyeyeballs>=2.3.0 in /usr/local/lib/python3.11/dist-packages (from aiohttp<4.0.0,>=3.8.3->langchain-community) (2.6.1)\n",
            "Requirement already satisfied: aiosignal>=1.1.2 in /usr/local/lib/python3.11/dist-packages (from aiohttp<4.0.0,>=3.8.3->langchain-community) (1.4.0)\n",
            "Requirement already satisfied: attrs>=17.3.0 in /usr/local/lib/python3.11/dist-packages (from aiohttp<4.0.0,>=3.8.3->langchain-community) (25.3.0)\n",
            "Requirement already satisfied: frozenlist>=1.1.1 in /usr/local/lib/python3.11/dist-packages (from aiohttp<4.0.0,>=3.8.3->langchain-community) (1.7.0)\n",
            "Requirement already satisfied: multidict<7.0,>=4.5 in /usr/local/lib/python3.11/dist-packages (from aiohttp<4.0.0,>=3.8.3->langchain-community) (6.6.3)\n",
            "Requirement already satisfied: propcache>=0.2.0 in /usr/local/lib/python3.11/dist-packages (from aiohttp<4.0.0,>=3.8.3->langchain-community) (0.3.2)\n",
            "Requirement already satisfied: yarl<2.0,>=1.17.0 in /usr/local/lib/python3.11/dist-packages (from aiohttp<4.0.0,>=3.8.3->langchain-community) (1.20.1)\n",
            "Collecting marshmallow<4.0.0,>=3.18.0 (from dataclasses-json<0.7,>=0.5.7->langchain-community)\n",
            "  Downloading marshmallow-3.26.1-py3-none-any.whl.metadata (7.3 kB)\n",
            "Collecting typing-inspect<1,>=0.4.0 (from dataclasses-json<0.7,>=0.5.7->langchain-community)\n",
            "  Downloading typing_inspect-0.9.0-py3-none-any.whl.metadata (1.5 kB)\n",
            "Collecting python-dotenv>=0.21.0 (from pydantic-settings<3.0.0,>=2.4.0->langchain-community)\n",
            "  Downloading python_dotenv-1.1.1-py3-none-any.whl.metadata (24 kB)\n",
            "Collecting mypy-extensions>=0.3.0 (from typing-inspect<1,>=0.4.0->dataclasses-json<0.7,>=0.5.7->langchain-community)\n",
            "  Downloading mypy_extensions-1.1.0-py3-none-any.whl.metadata (1.1 kB)\n",
            "Requirement already satisfied: requests-toolbelt<2.0.0,>=1.0.0 in /usr/local/lib/python3.11/dist-packages (from langsmith) (1.0.0)\n",
            "Requirement already satisfied: zstandard<0.24.0,>=0.23.0 in /usr/local/lib/python3.11/dist-packages (from langsmith) (0.23.0)\n",
            "Requirement already satisfied: anyio in /usr/local/lib/python3.11/dist-packages (from httpx>=0.25.2->langgraph-sdk<0.2.0,>=0.1.42->langgraph) (4.9.0)\n",
            "Requirement already satisfied: httpcore==1.* in /usr/local/lib/python3.11/dist-packages (from httpx>=0.25.2->langgraph-sdk<0.2.0,>=0.1.42->langgraph) (1.0.9)\n",
            "Requirement already satisfied: h11>=0.16 in /usr/local/lib/python3.11/dist-packages (from httpcore==1.*->httpx>=0.25.2->langgraph-sdk<0.2.0,>=0.1.42->langgraph) (0.16.0)\n",
            "Requirement already satisfied: click>=8.1.7 in /usr/local/lib/python3.11/dist-packages (from langgraph-cli) (8.2.1)\n",
            "Requirement already satisfied: openai<2.0.0,>=1.86.0 in /usr/local/lib/python3.11/dist-packages (from langchain-openai) (1.94.0)\n",
            "Requirement already satisfied: tiktoken<1,>=0.7 in /usr/local/lib/python3.11/dist-packages (from langchain-openai) (0.9.0)\n",
            "Requirement already satisfied: distro<2,>=1.7.0 in /usr/local/lib/python3.11/dist-packages (from openai<2.0.0,>=1.86.0->langchain-openai) (1.9.0)\n",
            "Requirement already satisfied: jiter<1,>=0.4.0 in /usr/local/lib/python3.11/dist-packages (from openai<2.0.0,>=1.86.0->langchain-openai) (0.10.0)\n",
            "Requirement already satisfied: sniffio in /usr/local/lib/python3.11/dist-packages (from openai<2.0.0,>=1.86.0->langchain-openai) (1.3.1)\n",
            "Requirement already satisfied: tqdm>4 in /usr/local/lib/python3.11/dist-packages (from openai<2.0.0,>=1.86.0->langchain-openai) (4.67.1)\n",
            "Requirement already satisfied: regex>=2022.1.18 in /usr/local/lib/python3.11/dist-packages (from tiktoken<1,>=0.7->langchain-openai) (2024.11.6)\n",
            "Collecting anthropic<1,>=0.57.0 (from langchain-anthropic)\n",
            "  Downloading anthropic-0.57.1-py3-none-any.whl.metadata (27 kB)\n",
            "Downloading langchain_core-0.3.69-py3-none-any.whl (441 kB)\n",
            "Downloading langgraph-0.5.3-py3-none-any.whl (143 kB)\n",
            "Downloading langgraph_checkpoint-2.1.0-py3-none-any.whl (43 kB)\n",
            "Downloading langgraph_prebuilt-0.5.2-py3-none-any.whl (23 kB)\n",
            "Downloading langgraph_sdk-0.1.73-py3-none-any.whl (50 kB)\n",
            "Downloading langchain_community-0.3.27-py3-none-any.whl (2.5 MB)\n",
            "\u001b[2K   \u001b[90m━━━━━━━━━━━━━━━━━━━━━━━━━━━━━━━━━━━━━━━━\u001b[0m \u001b[32m2.5/2.5 MB\u001b[0m \u001b[31m56.4 MB/s\u001b[0m eta \u001b[36m0:00:00\u001b[0m\n",
            "\u001b[?25hDownloading dataclasses_json-0.6.7-py3-none-any.whl (28 kB)\n",
            "Downloading httpx_sse-0.4.1-py3-none-any.whl (8.1 kB)\n",
            "Downloading marshmallow-3.26.1-py3-none-any.whl (50 kB)\n",
            "Downloading pydantic_settings-2.10.1-py3-none-any.whl (45 kB)\n",
            "Downloading typing_inspect-0.9.0-py3-none-any.whl (8.8 kB)\n",
            "Downloading langsmith-0.4.6-py3-none-any.whl (367 kB)\n",
            "Downloading langgraph_cli-0.3.4-py3-none-any.whl (36 kB)\n",
            "Downloading langchain_openai-0.3.28-py3-none-any.whl (70 kB)\n",
            "Downloading langchain_anthropic-0.3.17-py3-none-any.whl (29 kB)\n",
            "Downloading anthropic-0.57.1-py3-none-any.whl (292 kB)\n",
            "Downloading langchain_xai-0.2.4-py3-none-any.whl (8.0 kB)\n",
            "Downloading mypy_extensions-1.1.0-py3-none-any.whl (5.0 kB)\n",
            "Downloading ormsgpack-1.10.0-cp311-cp311-manylinux_2_17_x86_64.manylinux2014_x86_64.whl (216 kB)\n",
            "Downloading python_dotenv-1.1.1-py3-none-any.whl (20 kB)\n",
            "Installing collected packages: python-dotenv, ormsgpack, mypy-extensions, marshmallow, httpx-sse, typing-inspect, pydantic-settings, langsmith, langgraph-sdk, dataclasses-json, anthropic, langgraph-cli, langchain-core, langgraph-checkpoint, langchain-openai, langchain-anthropic, langgraph-prebuilt, langchain-xai, langgraph, langchain-community\n",
            "\u001b[2K  Attempting uninstall: langsmith\n",
            "\u001b[2K    Found existing installation: langsmith 0.4.4\n",
            "\u001b[2K    Uninstalling langsmith-0.4.4:\n",
            "\u001b[2K      Successfully uninstalled langsmith-0.4.4\n",
            "\u001b[2K  Attempting uninstall: langchain-core\n",
            "\u001b[2K    Found existing installation: langchain-core 0.3.68\n",
            "\u001b[2K    Uninstalling langchain-core-0.3.68:\n",
            "\u001b[2K      Successfully uninstalled langchain-core-0.3.68\n",
            "\u001b[2K   \u001b[90m━━━━━━━━━━━━━━━━━━━━━━━━━━━━━━━━━━━━━━━━\u001b[0m \u001b[32m20/20\u001b[0m [langchain-community]\n",
            "\u001b[1A\u001b[2KSuccessfully installed anthropic-0.57.1 dataclasses-json-0.6.7 httpx-sse-0.4.1 langchain-anthropic-0.3.17 langchain-community-0.3.27 langchain-core-0.3.69 langchain-openai-0.3.28 langchain-xai-0.2.4 langgraph-0.5.3 langgraph-checkpoint-2.1.0 langgraph-cli-0.3.4 langgraph-prebuilt-0.5.2 langgraph-sdk-0.1.73 langsmith-0.4.6 marshmallow-3.26.1 mypy-extensions-1.1.0 ormsgpack-1.10.0 pydantic-settings-2.10.1 python-dotenv-1.1.1 typing-inspect-0.9.0\n",
            "Requirement already satisfied: transformers in /usr/local/lib/python3.11/dist-packages (4.53.1)\n",
            "Collecting transformers\n",
            "  Downloading transformers-4.53.2-py3-none-any.whl.metadata (40 kB)\n",
            "Requirement already satisfied: datasets in /usr/local/lib/python3.11/dist-packages (2.14.4)\n",
            "Collecting datasets\n",
            "  Downloading datasets-4.0.0-py3-none-any.whl.metadata (19 kB)\n",
            "Collecting bitsandbytes\n",
            "  Downloading bitsandbytes-0.46.1-py3-none-manylinux_2_24_x86_64.whl.metadata (10 kB)\n",
            "Requirement already satisfied: filelock in /usr/local/lib/python3.11/dist-packages (from transformers) (3.18.0)\n",
            "Requirement already satisfied: huggingface-hub<1.0,>=0.30.0 in /usr/local/lib/python3.11/dist-packages (from transformers) (0.33.2)\n",
            "Requirement already satisfied: numpy>=1.17 in /usr/local/lib/python3.11/dist-packages (from transformers) (2.0.2)\n",
            "Requirement already satisfied: packaging>=20.0 in /usr/local/lib/python3.11/dist-packages (from transformers) (24.2)\n",
            "Requirement already satisfied: pyyaml>=5.1 in /usr/local/lib/python3.11/dist-packages (from transformers) (6.0.2)\n",
            "Requirement already satisfied: regex!=2019.12.17 in /usr/local/lib/python3.11/dist-packages (from transformers) (2024.11.6)\n",
            "Requirement already satisfied: requests in /usr/local/lib/python3.11/dist-packages (from transformers) (2.32.3)\n",
            "Requirement already satisfied: tokenizers<0.22,>=0.21 in /usr/local/lib/python3.11/dist-packages (from transformers) (0.21.2)\n",
            "Requirement already satisfied: safetensors>=0.4.3 in /usr/local/lib/python3.11/dist-packages (from transformers) (0.5.3)\n",
            "Requirement already satisfied: tqdm>=4.27 in /usr/local/lib/python3.11/dist-packages (from transformers) (4.67.1)\n",
            "Requirement already satisfied: fsspec>=2023.5.0 in /usr/local/lib/python3.11/dist-packages (from huggingface-hub<1.0,>=0.30.0->transformers) (2025.3.2)\n",
            "Requirement already satisfied: typing-extensions>=3.7.4.3 in /usr/local/lib/python3.11/dist-packages (from huggingface-hub<1.0,>=0.30.0->transformers) (4.14.1)\n",
            "Requirement already satisfied: hf-xet<2.0.0,>=1.1.2 in /usr/local/lib/python3.11/dist-packages (from huggingface-hub<1.0,>=0.30.0->transformers) (1.1.5)\n",
            "Requirement already satisfied: pyarrow>=15.0.0 in /usr/local/lib/python3.11/dist-packages (from datasets) (18.1.0)\n",
            "Requirement already satisfied: dill<0.3.9,>=0.3.0 in /usr/local/lib/python3.11/dist-packages (from datasets) (0.3.7)\n",
            "Requirement already satisfied: pandas in /usr/local/lib/python3.11/dist-packages (from datasets) (2.2.2)\n",
            "Requirement already satisfied: xxhash in /usr/local/lib/python3.11/dist-packages (from datasets) (3.5.0)\n",
            "Requirement already satisfied: multiprocess<0.70.17 in /usr/local/lib/python3.11/dist-packages (from datasets) (0.70.15)\n",
            "Collecting fsspec>=2023.5.0 (from huggingface-hub<1.0,>=0.30.0->transformers)\n",
            "  Downloading fsspec-2025.3.0-py3-none-any.whl.metadata (11 kB)\n",
            "Requirement already satisfied: aiohttp!=4.0.0a0,!=4.0.0a1 in /usr/local/lib/python3.11/dist-packages (from fsspec[http]<=2025.3.0,>=2023.1.0->datasets) (3.11.15)\n",
            "Requirement already satisfied: torch<3,>=2.2 in /usr/local/lib/python3.11/dist-packages (from bitsandbytes) (2.6.0+cu124)\n",
            "Requirement already satisfied: networkx in /usr/local/lib/python3.11/dist-packages (from torch<3,>=2.2->bitsandbytes) (3.5)\n",
            "Requirement already satisfied: jinja2 in /usr/local/lib/python3.11/dist-packages (from torch<3,>=2.2->bitsandbytes) (3.1.6)\n",
            "Collecting nvidia-cuda-nvrtc-cu12==12.4.127 (from torch<3,>=2.2->bitsandbytes)\n",
            "  Downloading nvidia_cuda_nvrtc_cu12-12.4.127-py3-none-manylinux2014_x86_64.whl.metadata (1.5 kB)\n",
            "Collecting nvidia-cuda-runtime-cu12==12.4.127 (from torch<3,>=2.2->bitsandbytes)\n",
            "  Downloading nvidia_cuda_runtime_cu12-12.4.127-py3-none-manylinux2014_x86_64.whl.metadata (1.5 kB)\n",
            "Collecting nvidia-cuda-cupti-cu12==12.4.127 (from torch<3,>=2.2->bitsandbytes)\n",
            "  Downloading nvidia_cuda_cupti_cu12-12.4.127-py3-none-manylinux2014_x86_64.whl.metadata (1.6 kB)\n",
            "Collecting nvidia-cudnn-cu12==9.1.0.70 (from torch<3,>=2.2->bitsandbytes)\n",
            "  Downloading nvidia_cudnn_cu12-9.1.0.70-py3-none-manylinux2014_x86_64.whl.metadata (1.6 kB)\n",
            "Collecting nvidia-cublas-cu12==12.4.5.8 (from torch<3,>=2.2->bitsandbytes)\n",
            "  Downloading nvidia_cublas_cu12-12.4.5.8-py3-none-manylinux2014_x86_64.whl.metadata (1.5 kB)\n",
            "Collecting nvidia-cufft-cu12==11.2.1.3 (from torch<3,>=2.2->bitsandbytes)\n",
            "  Downloading nvidia_cufft_cu12-11.2.1.3-py3-none-manylinux2014_x86_64.whl.metadata (1.5 kB)\n",
            "Collecting nvidia-curand-cu12==10.3.5.147 (from torch<3,>=2.2->bitsandbytes)\n",
            "  Downloading nvidia_curand_cu12-10.3.5.147-py3-none-manylinux2014_x86_64.whl.metadata (1.5 kB)\n",
            "Collecting nvidia-cusolver-cu12==11.6.1.9 (from torch<3,>=2.2->bitsandbytes)\n",
            "  Downloading nvidia_cusolver_cu12-11.6.1.9-py3-none-manylinux2014_x86_64.whl.metadata (1.6 kB)\n",
            "Collecting nvidia-cusparse-cu12==12.3.1.170 (from torch<3,>=2.2->bitsandbytes)\n",
            "  Downloading nvidia_cusparse_cu12-12.3.1.170-py3-none-manylinux2014_x86_64.whl.metadata (1.6 kB)\n",
            "Requirement already satisfied: nvidia-cusparselt-cu12==0.6.2 in /usr/local/lib/python3.11/dist-packages (from torch<3,>=2.2->bitsandbytes) (0.6.2)\n",
            "Requirement already satisfied: nvidia-nccl-cu12==2.21.5 in /usr/local/lib/python3.11/dist-packages (from torch<3,>=2.2->bitsandbytes) (2.21.5)\n",
            "Requirement already satisfied: nvidia-nvtx-cu12==12.4.127 in /usr/local/lib/python3.11/dist-packages (from torch<3,>=2.2->bitsandbytes) (12.4.127)\n",
            "Collecting nvidia-nvjitlink-cu12==12.4.127 (from torch<3,>=2.2->bitsandbytes)\n",
            "  Downloading nvidia_nvjitlink_cu12-12.4.127-py3-none-manylinux2014_x86_64.whl.metadata (1.5 kB)\n",
            "Requirement already satisfied: triton==3.2.0 in /usr/local/lib/python3.11/dist-packages (from torch<3,>=2.2->bitsandbytes) (3.2.0)\n",
            "Requirement already satisfied: sympy==1.13.1 in /usr/local/lib/python3.11/dist-packages (from torch<3,>=2.2->bitsandbytes) (1.13.1)\n",
            "Requirement already satisfied: mpmath<1.4,>=1.1.0 in /usr/local/lib/python3.11/dist-packages (from sympy==1.13.1->torch<3,>=2.2->bitsandbytes) (1.3.0)\n",
            "Requirement already satisfied: aiohappyeyeballs>=2.3.0 in /usr/local/lib/python3.11/dist-packages (from aiohttp!=4.0.0a0,!=4.0.0a1->fsspec[http]<=2025.3.0,>=2023.1.0->datasets) (2.6.1)\n",
            "Requirement already satisfied: aiosignal>=1.1.2 in /usr/local/lib/python3.11/dist-packages (from aiohttp!=4.0.0a0,!=4.0.0a1->fsspec[http]<=2025.3.0,>=2023.1.0->datasets) (1.4.0)\n",
            "Requirement already satisfied: attrs>=17.3.0 in /usr/local/lib/python3.11/dist-packages (from aiohttp!=4.0.0a0,!=4.0.0a1->fsspec[http]<=2025.3.0,>=2023.1.0->datasets) (25.3.0)\n",
            "Requirement already satisfied: frozenlist>=1.1.1 in /usr/local/lib/python3.11/dist-packages (from aiohttp!=4.0.0a0,!=4.0.0a1->fsspec[http]<=2025.3.0,>=2023.1.0->datasets) (1.7.0)\n",
            "Requirement already satisfied: multidict<7.0,>=4.5 in /usr/local/lib/python3.11/dist-packages (from aiohttp!=4.0.0a0,!=4.0.0a1->fsspec[http]<=2025.3.0,>=2023.1.0->datasets) (6.6.3)\n",
            "Requirement already satisfied: propcache>=0.2.0 in /usr/local/lib/python3.11/dist-packages (from aiohttp!=4.0.0a0,!=4.0.0a1->fsspec[http]<=2025.3.0,>=2023.1.0->datasets) (0.3.2)\n",
            "Requirement already satisfied: yarl<2.0,>=1.17.0 in /usr/local/lib/python3.11/dist-packages (from aiohttp!=4.0.0a0,!=4.0.0a1->fsspec[http]<=2025.3.0,>=2023.1.0->datasets) (1.20.1)\n",
            "Requirement already satisfied: idna>=2.0 in /usr/local/lib/python3.11/dist-packages (from yarl<2.0,>=1.17.0->aiohttp!=4.0.0a0,!=4.0.0a1->fsspec[http]<=2025.3.0,>=2023.1.0->datasets) (3.10)\n",
            "Requirement already satisfied: charset-normalizer<4,>=2 in /usr/local/lib/python3.11/dist-packages (from requests->transformers) (3.4.2)\n",
            "Requirement already satisfied: urllib3<3,>=1.21.1 in /usr/local/lib/python3.11/dist-packages (from requests->transformers) (2.4.0)\n",
            "Requirement already satisfied: certifi>=2017.4.17 in /usr/local/lib/python3.11/dist-packages (from requests->transformers) (2025.7.9)\n",
            "Requirement already satisfied: MarkupSafe>=2.0 in /usr/local/lib/python3.11/dist-packages (from jinja2->torch<3,>=2.2->bitsandbytes) (3.0.2)\n",
            "Requirement already satisfied: python-dateutil>=2.8.2 in /usr/local/lib/python3.11/dist-packages (from pandas->datasets) (2.9.0.post0)\n",
            "Requirement already satisfied: pytz>=2020.1 in /usr/local/lib/python3.11/dist-packages (from pandas->datasets) (2025.2)\n",
            "Requirement already satisfied: tzdata>=2022.7 in /usr/local/lib/python3.11/dist-packages (from pandas->datasets) (2025.2)\n",
            "Requirement already satisfied: six>=1.5 in /usr/local/lib/python3.11/dist-packages (from python-dateutil>=2.8.2->pandas->datasets) (1.17.0)\n",
            "Downloading transformers-4.53.2-py3-none-any.whl (10.8 MB)\n",
            "\u001b[2K   \u001b[90m━━━━━━━━━━━━━━━━━━━━━━━━━━━━━━━━━━━━━━━━\u001b[0m \u001b[32m10.8/10.8 MB\u001b[0m \u001b[31m97.4 MB/s\u001b[0m eta \u001b[36m0:00:00\u001b[0m\n",
            "\u001b[?25hDownloading datasets-4.0.0-py3-none-any.whl (494 kB)\n",
            "Downloading fsspec-2025.3.0-py3-none-any.whl (193 kB)\n",
            "Downloading bitsandbytes-0.46.1-py3-none-manylinux_2_24_x86_64.whl (72.9 MB)\n",
            "\u001b[2K   \u001b[90m━━━━━━━━━━━━━━━━━━━━━━━━━━━━━━━━━━━━━━━━\u001b[0m \u001b[32m72.9/72.9 MB\u001b[0m \u001b[31m63.1 MB/s\u001b[0m eta \u001b[36m0:00:00\u001b[0m\n",
            "\u001b[?25hDownloading nvidia_cublas_cu12-12.4.5.8-py3-none-manylinux2014_x86_64.whl (363.4 MB)\n",
            "\u001b[2K   \u001b[90m━━━━━━━━━━━━━━━━━━━━━━━━━━━━━━━━━━━━━━━━\u001b[0m \u001b[32m363.4/363.4 MB\u001b[0m \u001b[31m48.8 MB/s\u001b[0m eta \u001b[36m0:00:00\u001b[0m\n",
            "\u001b[?25hDownloading nvidia_cuda_cupti_cu12-12.4.127-py3-none-manylinux2014_x86_64.whl (13.8 MB)\n",
            "\u001b[2K   \u001b[90m━━━━━━━━━━━━━━━━━━━━━━━━━━━━━━━━━━━━━━━━\u001b[0m \u001b[32m13.8/13.8 MB\u001b[0m \u001b[31m137.1 MB/s\u001b[0m eta \u001b[36m0:00:00\u001b[0m\n",
            "\u001b[?25hDownloading nvidia_cuda_nvrtc_cu12-12.4.127-py3-none-manylinux2014_x86_64.whl (24.6 MB)\n",
            "\u001b[2K   \u001b[90m━━━━━━━━━━━━━━━━━━━━━━━━━━━━━━━━━━━━━━━━\u001b[0m \u001b[32m24.6/24.6 MB\u001b[0m \u001b[31m148.6 MB/s\u001b[0m eta \u001b[36m0:00:00\u001b[0m\n",
            "\u001b[?25hDownloading nvidia_cuda_runtime_cu12-12.4.127-py3-none-manylinux2014_x86_64.whl (883 kB)\n",
            "\u001b[2K   \u001b[90m━━━━━━━━━━━━━━━━━━━━━━━━━━━━━━━━━━━━━━━━\u001b[0m \u001b[32m883.7/883.7 kB\u001b[0m \u001b[31m42.8 MB/s\u001b[0m eta \u001b[36m0:00:00\u001b[0m\n",
            "\u001b[?25hDownloading nvidia_cudnn_cu12-9.1.0.70-py3-none-manylinux2014_x86_64.whl (664.8 MB)\n",
            "\u001b[2K   \u001b[90m━━━━━━━━━━━━━━━━━━━━━━━━━━━━━━━━━━━━━━━━\u001b[0m \u001b[32m664.8/664.8 MB\u001b[0m \u001b[31m38.2 MB/s\u001b[0m eta \u001b[36m0:00:00\u001b[0m\n",
            "\u001b[?25hDownloading nvidia_cufft_cu12-11.2.1.3-py3-none-manylinux2014_x86_64.whl (211.5 MB)\n",
            "\u001b[2K   \u001b[90m━━━━━━━━━━━━━━━━━━━━━━━━━━━━━━━━━━━━━━━━\u001b[0m \u001b[32m211.5/211.5 MB\u001b[0m \u001b[31m73.8 MB/s\u001b[0m eta \u001b[36m0:00:00\u001b[0m\n",
            "\u001b[?25hDownloading nvidia_curand_cu12-10.3.5.147-py3-none-manylinux2014_x86_64.whl (56.3 MB)\n",
            "\u001b[2K   \u001b[90m━━━━━━━━━━━━━━━━━━━━━━━━━━━━━━━━━━━━━━━━\u001b[0m \u001b[32m56.3/56.3 MB\u001b[0m \u001b[31m70.6 MB/s\u001b[0m eta \u001b[36m0:00:00\u001b[0m\n",
            "\u001b[?25hDownloading nvidia_cusolver_cu12-11.6.1.9-py3-none-manylinux2014_x86_64.whl (127.9 MB)\n",
            "\u001b[2K   \u001b[90m━━━━━━━━━━━━━━━━━━━━━━━━━━━━━━━━━━━━━━━━\u001b[0m \u001b[32m127.9/127.9 MB\u001b[0m \u001b[31m70.9 MB/s\u001b[0m eta \u001b[36m0:00:00\u001b[0m\n",
            "\u001b[?25hDownloading nvidia_cusparse_cu12-12.3.1.170-py3-none-manylinux2014_x86_64.whl (207.5 MB)\n",
            "\u001b[2K   \u001b[90m━━━━━━━━━━━━━━━━━━━━━━━━━━━━━━━━━━━━━━━━\u001b[0m \u001b[32m207.5/207.5 MB\u001b[0m \u001b[31m72.3 MB/s\u001b[0m eta \u001b[36m0:00:00\u001b[0m\n",
            "\u001b[?25hDownloading nvidia_nvjitlink_cu12-12.4.127-py3-none-manylinux2014_x86_64.whl (21.1 MB)\n",
            "\u001b[2K   \u001b[90m━━━━━━━━━━━━━━━━━━━━━━━━━━━━━━━━━━━━━━━━\u001b[0m \u001b[32m21.1/21.1 MB\u001b[0m \u001b[31m121.2 MB/s\u001b[0m eta \u001b[36m0:00:00\u001b[0m\n",
            "\u001b[?25hInstalling collected packages: nvidia-nvjitlink-cu12, nvidia-curand-cu12, nvidia-cufft-cu12, nvidia-cuda-runtime-cu12, nvidia-cuda-nvrtc-cu12, nvidia-cuda-cupti-cu12, nvidia-cublas-cu12, fsspec, nvidia-cusparse-cu12, nvidia-cudnn-cu12, nvidia-cusolver-cu12, transformers, datasets, bitsandbytes\n",
            "\u001b[2K  Attempting uninstall: nvidia-nvjitlink-cu12\n",
            "\u001b[2K    Found existing installation: nvidia-nvjitlink-cu12 12.5.82\n",
            "\u001b[2K    Uninstalling nvidia-nvjitlink-cu12-12.5.82:\n",
            "\u001b[2K      Successfully uninstalled nvidia-nvjitlink-cu12-12.5.82\n",
            "\u001b[2K  Attempting uninstall: nvidia-curand-cu12\n",
            "\u001b[2K    Found existing installation: nvidia-curand-cu12 10.3.6.82\n",
            "\u001b[2K    Uninstalling nvidia-curand-cu12-10.3.6.82:\n",
            "\u001b[2K      Successfully uninstalled nvidia-curand-cu12-10.3.6.82\n",
            "\u001b[2K  Attempting uninstall: nvidia-cufft-cu12\n",
            "\u001b[2K    Found existing installation: nvidia-cufft-cu12 11.2.3.61\n",
            "\u001b[2K    Uninstalling nvidia-cufft-cu12-11.2.3.61:\n",
            "\u001b[2K      Successfully uninstalled nvidia-cufft-cu12-11.2.3.61\n",
            "\u001b[2K  Attempting uninstall: nvidia-cuda-runtime-cu12\n",
            "\u001b[2K    Found existing installation: nvidia-cuda-runtime-cu12 12.5.82\n",
            "\u001b[2K    Uninstalling nvidia-cuda-runtime-cu12-12.5.82:\n",
            "\u001b[2K      Successfully uninstalled nvidia-cuda-runtime-cu12-12.5.82\n",
            "\u001b[2K  Attempting uninstall: nvidia-cuda-nvrtc-cu12\n",
            "\u001b[2K    Found existing installation: nvidia-cuda-nvrtc-cu12 12.5.82\n",
            "\u001b[2K    Uninstalling nvidia-cuda-nvrtc-cu12-12.5.82:\n",
            "\u001b[2K      Successfully uninstalled nvidia-cuda-nvrtc-cu12-12.5.82\n",
            "\u001b[2K  Attempting uninstall: nvidia-cuda-cupti-cu12\n",
            "\u001b[2K    Found existing installation: nvidia-cuda-cupti-cu12 12.5.82\n",
            "\u001b[2K    Uninstalling nvidia-cuda-cupti-cu12-12.5.82:\n",
            "\u001b[2K      Successfully uninstalled nvidia-cuda-cupti-cu12-12.5.82\n",
            "\u001b[2K  Attempting uninstall: nvidia-cublas-cu12\n",
            "\u001b[2K    Found existing installation: nvidia-cublas-cu12 12.5.3.2\n",
            "\u001b[2K    Uninstalling nvidia-cublas-cu12-12.5.3.2:\n",
            "\u001b[2K      Successfully uninstalled nvidia-cublas-cu12-12.5.3.2\n",
            "\u001b[2K  Attempting uninstall: fsspec\n",
            "\u001b[2K    Found existing installation: fsspec 2025.3.2\n",
            "\u001b[2K    Uninstalling fsspec-2025.3.2:\n",
            "\u001b[2K      Successfully uninstalled fsspec-2025.3.2\n",
            "\u001b[2K  Attempting uninstall: nvidia-cusparse-cu12\n",
            "\u001b[2K    Found existing installation: nvidia-cusparse-cu12 12.5.1.3\n",
            "\u001b[2K    Uninstalling nvidia-cusparse-cu12-12.5.1.3:\n",
            "\u001b[2K      Successfully uninstalled nvidia-cusparse-cu12-12.5.1.3\n",
            "\u001b[2K  Attempting uninstall: nvidia-cudnn-cu12\n",
            "\u001b[2K    Found existing installation: nvidia-cudnn-cu12 9.3.0.75\n",
            "\u001b[2K    Uninstalling nvidia-cudnn-cu12-9.3.0.75:\n",
            "\u001b[2K      Successfully uninstalled nvidia-cudnn-cu12-9.3.0.75\n",
            "\u001b[2K  Attempting uninstall: nvidia-cusolver-cu12\n",
            "\u001b[2K    Found existing installation: nvidia-cusolver-cu12 11.6.3.83\n",
            "\u001b[2K    Uninstalling nvidia-cusolver-cu12-11.6.3.83:\n",
            "\u001b[2K      Successfully uninstalled nvidia-cusolver-cu12-11.6.3.83\n",
            "\u001b[2K  Attempting uninstall: transformers\n",
            "\u001b[2K    Found existing installation: transformers 4.53.1\n",
            "\u001b[2K    Uninstalling transformers-4.53.1:\n",
            "\u001b[2K      Successfully uninstalled transformers-4.53.1\n",
            "\u001b[2K  Attempting uninstall: datasets\n",
            "\u001b[2K    Found existing installation: datasets 2.14.4\n",
            "\u001b[2K    Uninstalling datasets-2.14.4:\n",
            "\u001b[2K      Successfully uninstalled datasets-2.14.4\n",
            "\u001b[2K   \u001b[90m━━━━━━━━━━━━━━━━━━━━━━━━━━━━━━━━━━━━━━━━\u001b[0m \u001b[32m14/14\u001b[0m [bitsandbytes]\n",
            "\u001b[1A\u001b[2K\u001b[31mERROR: pip's dependency resolver does not currently take into account all the packages that are installed. This behaviour is the source of the following dependency conflicts.\n",
            "gcsfs 2025.3.2 requires fsspec==2025.3.2, but you have fsspec 2025.3.0 which is incompatible.\u001b[0m\u001b[31m\n",
            "\u001b[0mSuccessfully installed bitsandbytes-0.46.1 datasets-4.0.0 fsspec-2025.3.0 nvidia-cublas-cu12-12.4.5.8 nvidia-cuda-cupti-cu12-12.4.127 nvidia-cuda-nvrtc-cu12-12.4.127 nvidia-cuda-runtime-cu12-12.4.127 nvidia-cudnn-cu12-9.1.0.70 nvidia-cufft-cu12-11.2.1.3 nvidia-curand-cu12-10.3.5.147 nvidia-cusolver-cu12-11.6.1.9 nvidia-cusparse-cu12-12.3.1.170 nvidia-nvjitlink-cu12-12.4.127 transformers-4.53.2\n",
            "Collecting dotenv\n",
            "  Downloading dotenv-0.9.9-py2.py3-none-any.whl.metadata (279 bytes)\n",
            "Requirement already satisfied: python-dotenv in /usr/local/lib/python3.11/dist-packages (from dotenv) (1.1.1)\n",
            "Downloading dotenv-0.9.9-py2.py3-none-any.whl (1.9 kB)\n",
            "Installing collected packages: dotenv\n",
            "Successfully installed dotenv-0.9.9\n"
          ]
        }
      ],
      "source": [
        "!pip install --upgrade --quiet pip\n",
        "!pip install --upgrade langchain langgraph langchain-core langchain-community langsmith langgraph-cli langchain-openai langchain-anthropic langchain-xai\n",
        "!pip install --upgrade transformers datasets bitsandbytes\n",
        "!pip install dotenv"
      ]
    },
    {
      "cell_type": "code",
      "source": [
        "from google.colab import userdata\n",
        "import os\n",
        "from dotenv import load_dotenv\n",
        "load_dotenv()\n",
        "\n",
        "os.environ[\"GROQ_TOKEN\"] = userdata.get(\"GROQ_TOKEN\")\n",
        "os.environ[\"LANGSMITH_TOKEN\"] = userdata.get(\"LANGSMITH_TOKEN\")\n",
        "os.environ[\"GITHUB_TOKEN\"] = userdata.get(\"GITHUB_TOKEN\")"
      ],
      "metadata": {
        "id": "bwX0JAlwCBLd"
      },
      "execution_count": 2,
      "outputs": []
    },
    {
      "cell_type": "code",
      "source": [
        "import os\n",
        "import operator\n",
        "import random\n",
        "from langgraph.graph import StateGraph, START, END\n",
        "from typing import TypedDict, Dict, List, Literal"
      ],
      "metadata": {
        "id": "1lOTxrN9CBJN"
      },
      "execution_count": 3,
      "outputs": []
    },
    {
      "cell_type": "markdown",
      "source": [
        "# I. State, Graph, Node đơn giản"
      ],
      "metadata": {
        "id": "v4IY_TdGCJpS"
      }
    },
    {
      "cell_type": "code",
      "source": [
        "# Một State đơn giản:\n",
        "class GameState(TypedDict):\n",
        "  game: str\n",
        "  message: str\n",
        "  message_2: str\n",
        "\n",
        "# Tạo một node đơn giản:\n",
        "def game_node(state: GameState) -> GameState: # Cái này là cập nhật & trả về trạng thái State sau khi cập nhật\n",
        "  \"\"\"Node đơn giản để thêm thông tin về games\"\"\"\n",
        "\n",
        "  state['message'] = \"Hey \" + state['message'] + \", wanna play some games?\"\n",
        "  return state\n",
        "\n",
        "def new_game(state: GameState) -> GameState:\n",
        "  game = state['game']\n",
        "  state['message_2'] = f\"Let's play {game}!\"\n",
        "  return state"
      ],
      "metadata": {
        "id": "QdWoWRLcCBG7"
      },
      "execution_count": 4,
      "outputs": []
    },
    {
      "cell_type": "code",
      "source": [
        "# Để là workflow, builder hay gì cũng đc, chỉ cần gắn giá trị đúng thôi\n",
        "builder = StateGraph(GameState)\n",
        "\n",
        "builder.add_node(\"Game\", game_node) # Thêm node phải có 2 giá trị: Tên của node & node hiện tại\n",
        "builder.add_node(\"Tekken_8\", new_game)\n",
        "\n",
        "builder.add_edge(\"Game\", \"Tekken_8\")\n",
        "builder.add_edge(\"Tekken_8\", END)"
      ],
      "metadata": {
        "id": "q0buvJtRCBER",
        "colab": {
          "base_uri": "https://localhost:8080/"
        },
        "outputId": "84b0fca1-ac11-4785-95ac-773c1ff17c81"
      },
      "execution_count": 5,
      "outputs": [
        {
          "output_type": "execute_result",
          "data": {
            "text/plain": [
              "<langgraph.graph.state.StateGraph at 0x7cb95e887410>"
            ]
          },
          "metadata": {},
          "execution_count": 5
        }
      ]
    },
    {
      "cell_type": "code",
      "source": [
        "# Thêm node khởi chạy & node cuối trình chạy của graph (chưa phải END node)\n",
        "builder.set_entry_point(\"Game\")\n",
        "builder.set_finish_point(\"Tekken_8\")\n",
        "\n",
        "game_console = builder.compile() # Bắt buộc phải có compile thì sau đó mới chạy được code"
      ],
      "metadata": {
        "id": "MO0I5KnACBBw"
      },
      "execution_count": 6,
      "outputs": []
    },
    {
      "cell_type": "code",
      "source": [
        "from IPython.display import Image, display\n",
        "display(Image(game_console.get_graph().draw_mermaid_png(max_retries=3, retry_delay=2.0)))"
      ],
      "metadata": {
        "id": "-uvwbR8mCA_I",
        "colab": {
          "base_uri": "https://localhost:8080/",
          "height": 0
        },
        "outputId": "8c5629b9-aa76-4b23-cd16-4f8d61143d13"
      },
      "execution_count": 7,
      "outputs": [
        {
          "output_type": "display_data",
          "data": {
            "image/png": "[encoded data removed]",
            "text/plain": [
              "<IPython.core.display.Image object>"
            ]
          },
          "metadata": {}
        }
      ]
    },
    {
      "cell_type": "code",
      "source": [
        "result = game_console.invoke({\"message\": \"Narrator\", \"game\": \"Tekken_8\"}) # Chạy graph vừa được khởi tạo\n",
        "print(result)"
      ],
      "metadata": {
        "id": "-p_piySbCA8w",
        "colab": {
          "base_uri": "https://localhost:8080/"
        },
        "outputId": "3eb095d0-ad0a-4725-8984-a31c6748b7b0"
      },
      "execution_count": 8,
      "outputs": [
        {
          "output_type": "stream",
          "name": "stdout",
          "text": [
            "{'game': 'Tekken_8', 'message': 'Hey Narrator, wanna play some games?', 'message_2': \"Let's play Tekken_8!\"}\n"
          ]
        }
      ]
    },
    {
      "cell_type": "markdown",
      "source": [
        "# Áp dụng làm một task với State đơn giản"
      ],
      "metadata": {
        "id": "lkUqtcIXCUBD"
      }
    },
    {
      "cell_type": "code",
      "source": [
        "# Tạo State\n",
        "class Task1State(TypedDict):\n",
        "  current_node: str\n",
        "  name: str\n",
        "  compliment: str\n",
        "\n",
        "# Tạo ra node\n",
        "def compliment_setup(state: Task1State) -> Task1State:\n",
        "    \"\"\"\n",
        "    Tạo ra node đơn giản để thực hiện task\n",
        "    Task ở đây: Tạo ra một Personalized Compliment Agent\n",
        "    Input: {name: \"Bob\"}\n",
        "    Output: \"Bob, you're doing an amazing job at learning Langgraph!\"\n",
        "    \"\"\"\n",
        "    # print(state)\n",
        "    name = state['name']\n",
        "    state['compliment'] = f\"Hey {state['name']}, you're doing an amazing job at learning Langgraph! Your curent node is: {state['current_node']}\"\n",
        "    # print(state)\n",
        "    return state\n",
        "\n",
        "# Tạo ra graph workflow chính\n",
        "workflow = StateGraph(Task1State)\n",
        "\n",
        "workflow.add_node(\"Compliment\", compliment_setup)\n",
        "\n",
        "workflow.set_entry_point(\"Compliment\")\n",
        "\n",
        "workflow.add_edge(\"Compliment\", END)\n",
        "\n",
        "new_compliment = workflow.compile()"
      ],
      "metadata": {
        "id": "62uil1XMCA6g"
      },
      "execution_count": 9,
      "outputs": []
    },
    {
      "cell_type": "code",
      "source": [
        "# Show flow dưới dạng graph\n",
        "from IPython.display import Image, display\n",
        "display(Image(new_compliment.get_graph().draw_mermaid_png(max_retries=3, retry_delay=2.0)))"
      ],
      "metadata": {
        "id": "eUeVpSRMCA4A",
        "colab": {
          "base_uri": "https://localhost:8080/",
          "height": 0
        },
        "outputId": "43cc3da6-62ce-4859-82d4-7dca682b49b4"
      },
      "execution_count": 10,
      "outputs": [
        {
          "output_type": "display_data",
          "data": {
            "image/png": "[encoded data removed]",
            "text/plain": [
              "<IPython.core.display.Image object>"
            ]
          },
          "metadata": {}
        }
      ]
    },
    {
      "cell_type": "code",
      "source": [
        "# Invoke để chạy graph (vì đây là workflow), chứ ko phải chạy State\n",
        "def invoke_result(input_data: dict) -> str:\n",
        "  result = new_compliment.invoke(input_data)\n",
        "  return result['compliment']\n",
        "\n",
        "input = {\"name\": \"Bob\", \"current_node\": \"Compliment\"}\n",
        "output = invoke_result(input)\n",
        "print(output)"
      ],
      "metadata": {
        "id": "Fp532v0uCA1n",
        "colab": {
          "base_uri": "https://localhost:8080/"
        },
        "outputId": "3820c632-8a63-44b8-a6c5-c28a5285b0f8"
      },
      "execution_count": 11,
      "outputs": [
        {
          "output_type": "stream",
          "name": "stdout",
          "text": [
            "Hey Bob, you're doing an amazing job at learning Langgraph! Your curent node is: Compliment\n"
          ]
        }
      ]
    },
    {
      "cell_type": "markdown",
      "source": [
        "# Tiếp tục & thử làm để test"
      ],
      "metadata": {
        "id": "mduiZ8lVCd2y"
      }
    },
    {
      "cell_type": "code",
      "source": [
        "class AgeState(TypedDict):\n",
        "  name: str\n",
        "  values: list[int]\n",
        "  operation: str\n",
        "  result: str\n",
        "\n",
        "def node_1(state: AgeState) -> AgeState:\n",
        "  name = state['name']\n",
        "  values = state['values']\n",
        "  operation = state['operation']\n",
        "\n",
        "  if operation == \"+\":\n",
        "    result = sum(values)\n",
        "  elif operation == \"*\":\n",
        "    result = 1\n",
        "    for num in values:\n",
        "      result *= num\n",
        "  else:\n",
        "    result = 0\n",
        "\n",
        "  state['result'] = f\"Hi {state['name']}. You're {result} years old.\"\n",
        "  return state\n",
        "\n",
        "workflow = StateGraph(AgeState)\n",
        "\n",
        "workflow.add_node(\"calculation_node\", node_1)\n",
        "\n",
        "workflow.set_entry_point(\"calculation_node\")\n",
        "\n",
        "workflow.add_edge(\"calculation_node\", END)\n",
        "\n",
        "human_age = workflow.compile()"
      ],
      "metadata": {
        "id": "rRPa4oE-CAzP"
      },
      "execution_count": 12,
      "outputs": []
    },
    {
      "cell_type": "code",
      "source": [
        "from IPython.display import Image, display\n",
        "display(Image(human_age.get_graph().draw_mermaid_png(max_retries=3, retry_delay=2.0)))"
      ],
      "metadata": {
        "id": "SD38DlPLCAmX",
        "colab": {
          "base_uri": "https://localhost:8080/",
          "height": 0
        },
        "outputId": "d408fdc0-3db4-4e46-d2c8-b0b1a0cf5488"
      },
      "execution_count": 13,
      "outputs": [
        {
          "output_type": "display_data",
          "data": {
            "image/png": "[encoded data removed]",
            "text/plain": [
              "<IPython.core.display.Image object>"
            ]
          },
          "metadata": {}
        }
      ]
    },
    {
      "cell_type": "code",
      "source": [
        "input_data = {\n",
        "    \"name\": \"Jack\",\n",
        "    \"values\": [1,2,3,5],\n",
        "    \"operation\": \"*\"\n",
        "}\n",
        "\n",
        "input_data_2 = {\n",
        "    \"name\": \"Jack\",\n",
        "    \"values\": [1,2,3,5],\n",
        "    \"operation\": \"+\"\n",
        "}\n",
        "\n",
        "result = human_age.invoke(input_data_2)\n",
        "print(result['result'])"
      ],
      "metadata": {
        "id": "p59XJScFCgFb",
        "colab": {
          "base_uri": "https://localhost:8080/"
        },
        "outputId": "2f0baeef-00c7-47bd-8249-8a1ecd65687b"
      },
      "execution_count": 14,
      "outputs": [
        {
          "output_type": "stream",
          "name": "stdout",
          "text": [
            "Hi Jack. You're 11 years old.\n"
          ]
        }
      ]
    },
    {
      "cell_type": "code",
      "source": [
        "class AgentState(TypedDict):\n",
        "  name: str\n",
        "  age: str\n",
        "  result: str"
      ],
      "metadata": {
        "id": "agg8AjcSCgDA"
      },
      "execution_count": 15,
      "outputs": []
    },
    {
      "cell_type": "code",
      "source": [
        "def first_node(state: AgentState) -> AgentState:\n",
        "  \"\"\"Node đầu tiên trong chuỗi\"\"\"\n",
        "  state['result'] = f\"Hi {state['name']}.\"\n",
        "  return state\n",
        "\n",
        "def second_node(state: AgentState) -> AgentState:\n",
        "  \"\"\"Node thứ hai trong chuỗi\"\"\"\n",
        "  state['result'] = state['result'] + f\"You're {state['age']} years old.\" # Kết hợp hai node với nhau cùng lúc\n",
        "  return state"
      ],
      "metadata": {
        "id": "VBVZxCWkCgAu"
      },
      "execution_count": 16,
      "outputs": []
    },
    {
      "cell_type": "code",
      "source": [
        "graph_builder = StateGraph(AgentState)\n",
        "\n",
        "graph_builder.add_node(\"first_node\", first_node)\n",
        "graph_builder.add_node(\"second_node\", second_node)\n",
        "\n",
        "graph_builder.set_entry_point(\"first_node\")\n",
        "\n",
        "graph_builder.add_edge(\"first_node\", \"second_node\")\n",
        "graph_builder.set_finish_point(\"second_node\")\n",
        "\n",
        "agent_graph = graph_builder.compile()"
      ],
      "metadata": {
        "id": "zYvD1hPqCf-G"
      },
      "execution_count": 17,
      "outputs": []
    },
    {
      "cell_type": "code",
      "source": [
        "from IPython.display import Image, display\n",
        "display(Image(agent_graph.get_graph().draw_mermaid_png(max_retries=3, retry_delay=2.0)))"
      ],
      "metadata": {
        "id": "mahqZ6NzCf7n",
        "colab": {
          "base_uri": "https://localhost:8080/",
          "height": 0
        },
        "outputId": "56a8f76f-568b-4ddb-c31a-910c69fd5559"
      },
      "execution_count": 18,
      "outputs": [
        {
          "output_type": "display_data",
          "data": {
            "image/png": "[encoded data removed]",
            "text/plain": [
              "<IPython.core.display.Image object>"
            ]
          },
          "metadata": {}
        }
      ]
    },
    {
      "cell_type": "code",
      "source": [
        "result = agent_graph.invoke({\"name\": \"Bob\", \"age\": \"21\"})\n",
        "print(result['result'])"
      ],
      "metadata": {
        "id": "NVZJxPIVCf5e",
        "colab": {
          "base_uri": "https://localhost:8080/"
        },
        "outputId": "e8cb4d1a-37c7-40fd-dc72-098a95ab0239"
      },
      "execution_count": 19,
      "outputs": [
        {
          "output_type": "stream",
          "name": "stdout",
          "text": [
            "Hi Bob.You're 21 years old.\n"
          ]
        }
      ]
    },
    {
      "cell_type": "code",
      "source": [
        "class UserState(TypedDict):\n",
        "  name: str\n",
        "  age: str\n",
        "  skills: str\n",
        "  skills_list: List[str] # Add a new key for the input skills list\n",
        "\n",
        "def name_node(state: UserState) -> UserState:\n",
        "  name = state['name']\n",
        "  state['skills'] = f\"Hi {name}. Gladly meeting you here.\"\n",
        "  return state\n",
        "\n",
        "def age_node(state: UserState) -> UserState:\n",
        "  age = state['age']\n",
        "  state['skills'] = state['skills'] + f\" You're {age} years old. You died young and got reincarnated to this new world.\"\n",
        "  return state\n",
        "\n",
        "def skill_node(state: UserState) -> UserState:\n",
        "  # Use the skills_list from the input\n",
        "  skills = \", \".join(state['skills_list'])\n",
        "  state['skills'] = state['skills'] + f\" You can choose these new skills: {skills} to start at this world.\"\n",
        "  return state\n",
        "\n",
        "isekai = StateGraph(UserState)\n",
        "\n",
        "isekai.add_node(\"name_node\", name_node)\n",
        "isekai.add_node(\"age_node\", age_node)\n",
        "isekai.add_node(\"skill_node\", skill_node)\n",
        "\n",
        "isekai.set_entry_point(\"name_node\")\n",
        "\n",
        "isekai.add_edge(\"name_node\", \"age_node\")\n",
        "isekai.add_edge(\"age_node\", \"skill_node\")\n",
        "isekai.set_finish_point(\"skill_node\")\n",
        "\n",
        "isekai_character = isekai.compile()"
      ],
      "metadata": {
        "id": "UlqHJ0dHCpWC"
      },
      "execution_count": 20,
      "outputs": []
    },
    {
      "cell_type": "code",
      "source": [
        "from IPython.display import Image, display\n",
        "display(Image(isekai_character.get_graph().draw_mermaid_png(max_retries=3, retry_delay=2.0)))"
      ],
      "metadata": {
        "id": "OE52yDSCCpTo",
        "colab": {
          "base_uri": "https://localhost:8080/",
          "height": 0
        },
        "outputId": "565a2562-80bb-4ebb-86d5-f553f0af52a9"
      },
      "execution_count": 21,
      "outputs": [
        {
          "output_type": "display_data",
          "data": {
            "image/png": "[encoded data removed]",
            "text/plain": [
              "<IPython.core.display.Image object>"
            ]
          },
          "metadata": {}
        }
      ]
    },
    {
      "cell_type": "code",
      "source": [
        "input_data = {\n",
        "    \"name\": \"Jachiru\",\n",
        "    \"age\": \"38\",\n",
        "    \"skills_list\": [\"self_heal\", \"power_up_x100\", \"big_brain\", \"thief\", \"all_seeing\"]\n",
        "}\n",
        "\n",
        "new_character = isekai_character.invoke(input_data)\n",
        "print(new_character['skills'])"
      ],
      "metadata": {
        "id": "0Xoh-r5XCpRP",
        "colab": {
          "base_uri": "https://localhost:8080/"
        },
        "outputId": "504d0704-58ea-4338-ddc0-f051be757fb7"
      },
      "execution_count": 22,
      "outputs": [
        {
          "output_type": "stream",
          "name": "stdout",
          "text": [
            "Hi Jachiru. Gladly meeting you here. You're 38 years old. You died young and got reincarnated to this new world. You can choose these new skills: self_heal, power_up_x100, big_brain, thief, all_seeing to start at this world.\n"
          ]
        }
      ]
    },
    {
      "cell_type": "markdown",
      "source": [
        "# Router + conditional edges"
      ],
      "metadata": {
        "id": "aPYQKrA5C1sm"
      }
    },
    {
      "cell_type": "code",
      "source": [
        "class MathState(TypedDict):\n",
        "  number_1: int\n",
        "  number_2: int\n",
        "  number_3: int\n",
        "  number_4: int\n",
        "  operation: str\n",
        "  operation_2: str\n",
        "  final_number: int\n",
        "  final_number_2: int"
      ],
      "metadata": {
        "id": "zNLvfnKZCpO-"
      },
      "execution_count": 23,
      "outputs": []
    },
    {
      "cell_type": "code",
      "source": [
        "def addition(state: MathState) -> MathState:\n",
        "  \"\"\"\n",
        "  Cộng 2 số với nhau\n",
        "  \"\"\"\n",
        "  state['final_number'] = state['number_1'] + state['number_2']\n",
        "  return state\n",
        "\n",
        "def substraction(state: MathState) -> MathState:\n",
        "  \"\"\" Trừ 2 số với nhau \"\"\"\n",
        "  state['final_number'] = state['number_1'] - state['number_2']\n",
        "  return state\n",
        "\n",
        "def decide_next_node(state: MathState) -> MathState:\n",
        "  \"\"\" Node để chọn các node tiếp theo cho graph \"\"\"\n",
        "  if state['operation'] == \"+\":\n",
        "    return \"addition_operation\"\n",
        "  elif state['operation'] == \"-\":\n",
        "    return \"subtraction_operation\"\n",
        "  else:\n",
        "    return \"invalid_operation\"\n",
        "\n",
        "#----------------------------------------------------------------------#\n",
        "\n",
        "def addition_2(state: MathState) -> MathState:\n",
        "  \"\"\" Nhân 2 số với nhau \"\"\"\n",
        "  state['final_number_2'] = state['number_3'] + state['number_4']\n",
        "  return state\n",
        "\n",
        "def subtraction_2(state: MathState) -> MathState:\n",
        "  \"\"\" Chia 2 số với nhau \"\"\"\n",
        "  state['final_number_2'] = state['number_3'] - state['number_4']\n",
        "  return state\n",
        "\n",
        "def decide_next_node_2(state: MathState) -> MathState:\n",
        "  \"\"\" Node để chọn các node tiếp theo cho graph \"\"\"\n",
        "  if state['operation_2'] == \"+\":\n",
        "    return \"addition_operation_2\"\n",
        "  elif state['operation_2'] == \"-\":\n",
        "    return \"subtraction_operation_2\"\n",
        "  else:\n",
        "    return \"invalid_operation\""
      ],
      "metadata": {
        "id": "UGBgoWR5CpMe"
      },
      "execution_count": 24,
      "outputs": []
    },
    {
      "cell_type": "code",
      "source": [
        "graph = StateGraph(MathState)\n",
        "\n",
        "graph.add_node(\"add_node\", addition)\n",
        "graph.add_node(\"subtract_node\", substraction)\n",
        "graph.add_node(\"router\", lambda state:state) # Passthrough function\n",
        "\n",
        "graph.add_node(\"add_node_2\", addition_2)\n",
        "graph.add_node(\"subtract_node_2\", subtraction_2)\n",
        "graph.add_node(\"router_2\", lambda state:state)\n",
        "# graph.add_node(\"router\", decide_next_node) ## Này sẽ sinh lỗi\n",
        "\n",
        "graph.add_edge(START, \"router\")\n",
        "\n",
        "graph.add_conditional_edges(\n",
        "    \"router\",\n",
        "    decide_next_node, # Hàm để routing\n",
        "    {\n",
        "        # Edge: Node\n",
        "        \"addition_operation\": \"add_node\",\n",
        "        \"subtraction_operation\": \"subtract_node\"\n",
        "    }\n",
        ")\n",
        "\n",
        "graph.add_edge(\"add_node\", \"router_2\")\n",
        "graph.add_edge(\"subtract_node\", \"router_2\")\n",
        "\n",
        "graph.add_conditional_edges(\n",
        "    \"router_2\",\n",
        "    decide_next_node_2,\n",
        "    {\n",
        "        \"addition_operation_2\": \"add_node_2\",\n",
        "        \"subtraction_operation_2\": \"subtract_node_2\"\n",
        "    }\n",
        ")\n",
        "\n",
        "graph.add_edge(\"add_node_2\", END)\n",
        "graph.add_edge(\"subtract_node_2\", END)\n",
        "\n",
        "math_app = graph.compile()"
      ],
      "metadata": {
        "id": "9VhTsWORn0_o"
      },
      "execution_count": 25,
      "outputs": []
    },
    {
      "cell_type": "code",
      "source": [
        "from IPython.display import Image, display\n",
        "display(Image(math_app.get_graph().draw_mermaid_png(max_retries=3, retry_delay=2.0)))"
      ],
      "metadata": {
        "id": "wUb87_eSC2_L",
        "colab": {
          "base_uri": "https://localhost:8080/",
          "height": 596
        },
        "outputId": "0dfd98dd-1394-4412-85fc-084e9cfeddad"
      },
      "execution_count": 26,
      "outputs": [
        {
          "output_type": "display_data",
          "data": {
            "image/png": "[encoded data removed]",
            "text/plain": [
              "<IPython.core.display.Image object>"
            ]
          },
          "metadata": {}
        }
      ]
    },
    {
      "cell_type": "code",
      "source": [
        "# Gọi invoke trực tiếp\n",
        "## Kiểu 1:\n",
        "# initial_state = MathState(number_1 = 10, number_2 = 2, operation = \"+\")\n",
        "# print(math_app.invoke(initial_state)['final_number'])\n",
        "\n",
        "## Kiểu 2:\n",
        "# initial_state = math_app.invoke({\"number_1\": 10, \"number_2\": 5, \"operation\": \"+\"})\n",
        "# print(initial_state['final_number'])\n",
        "\n",
        "# Khởi tạo dict để invoke graph\n",
        "# input_1 = {\n",
        "#     \"number_1\": 10,\n",
        "#     \"number_2\": 5,\n",
        "#     \"operation\": \"+\"\n",
        "# }\n",
        "\n",
        "# input_2 = {\n",
        "#     \"number_1\": 12,\n",
        "#     \"number_2\": 2,\n",
        "#     \"operation\": \"-\"\n",
        "# }\n",
        "# # Tạo list inputs\n",
        "# inputs = [input_1, input_data_2]\n",
        "# # inputs = []\n",
        "\n",
        "# # Lặp qua inputs & invoke qua từng thằng một\n",
        "# results = []\n",
        "# for input_item in inputs:\n",
        "#   result = math_app.invoke(input_item)\n",
        "#   results.append(result)\n",
        "\n",
        "# # In kết quả\n",
        "# for i, result in enumerate(results):\n",
        "#     print(f\"Input {i+1}: {inputs[i]} -> Result: {result['final_number']}\")"
      ],
      "metadata": {
        "id": "3v5emo1EC25f"
      },
      "execution_count": 27,
      "outputs": []
    },
    {
      "cell_type": "code",
      "source": [
        "# initial_state = MathState(number_1 = 10, number_2 = 2, operation = \"+\", number_3 = 4, number_4 = 2, operation_2 = \"-\", final_number=0, final_number_2=0)\n",
        "# print(math_app.invoke(initial_state))\n",
        "\n",
        "# Cách tạo kiểu dict, nhớ phải có hết các giá trị đã tạo trong State\n",
        "input_1 = {\n",
        "    \"number_1\": 10,\n",
        "    \"number_2\": 5,\n",
        "    \"operation\": \"+\",\n",
        "    \"number_3\": 4,\n",
        "    \"number_4\": 2,\n",
        "    \"operation_2\": \"-\",\n",
        "    \"final_number\": 0,\n",
        "    \"final_number_2\": 0\n",
        "}\n",
        "\n",
        "input_2 = {\n",
        "    \"number_1\": 12,\n",
        "    \"number_2\": 2,\n",
        "    \"operation\": \"-\",\n",
        "    \"number_3\": 8,\n",
        "    \"number_4\": 3,\n",
        "    \"operation_2\": \"+\",\n",
        "    \"final_number\": 0,\n",
        "    \"final_number_2\": 0\n",
        "}\n",
        "\n",
        "# Tạo list inputs\n",
        "inputs = [input_1, input_2]\n",
        "\n",
        "# Lặp qua inputs & invoke qua từng thằng một\n",
        "results = []\n",
        "for input_item in inputs:\n",
        "    result = math_app.invoke(input_item)\n",
        "    results.append(result)\n",
        "\n",
        "# In kết quả\n",
        "for i, result in enumerate(results):\n",
        "    print(f\"Input {i+1}: {inputs[i]}\")\n",
        "    print(f\"  -> Router 1 result: {result['final_number']}\")\n",
        "    print(f\"  -> Router 2 result: {result['final_number_2']}\")\n",
        "    print()"
      ],
      "metadata": {
        "colab": {
          "base_uri": "https://localhost:8080/"
        },
        "id": "_TwydqpalU-y",
        "outputId": "72d0ae38-470a-4b07-d15b-adaf969893e3"
      },
      "execution_count": 28,
      "outputs": [
        {
          "output_type": "stream",
          "name": "stdout",
          "text": [
            "Input 1: {'number_1': 10, 'number_2': 5, 'operation': '+', 'number_3': 4, 'number_4': 2, 'operation_2': '-', 'final_number': 0, 'final_number_2': 0}\n",
            "  -> Router 1 result: 15\n",
            "  -> Router 2 result: 2\n",
            "\n",
            "Input 2: {'number_1': 12, 'number_2': 2, 'operation': '-', 'number_3': 8, 'number_4': 3, 'operation_2': '+', 'final_number': 0, 'final_number_2': 0}\n",
            "  -> Router 1 result: 10\n",
            "  -> Router 2 result: 11\n",
            "\n"
          ]
        }
      ]
    },
    {
      "cell_type": "markdown",
      "source": [
        "# Thực hành làm exercise tiếp, tạo looping logic"
      ],
      "metadata": {
        "id": "Nwa_cV3TNk_J"
      }
    },
    {
      "cell_type": "code",
      "source": [
        "from langchain_core.runnables import RunnableConfig\n",
        "class GameState(TypedDict):\n",
        "  player_name: str\n",
        "  hint: str\n",
        "  target_number: int\n",
        "  guesses: List[int]\n",
        "  attempts: int\n",
        "  lower_bound: int\n",
        "  higher_bound: int\n",
        "  won: bool\n",
        "  game_over: bool"
      ],
      "metadata": {
        "id": "E4dJoTu5lU8h"
      },
      "execution_count": 192,
      "outputs": []
    },
    {
      "cell_type": "code",
      "source": [
        "def initialize_game(state: GameState) -> GameState:\n",
        "  state[\"attempts\"] = 0\n",
        "  state[\"lower_bound\"] = 1\n",
        "  state[\"higher_bound\"] = 100\n",
        "  state[\"guesses\"] = []\n",
        "  state[\"target_number\"] = random.randint(state[\"lower_bound\"], state[\"higher_bound\"])\n",
        "  state[\"won\"] = False\n",
        "  state[\"game_over\"] = False\n",
        "  state[\"hint\"] = f\"Hi {state['player_name']}. I want to introduce you to this game. It's called Higher-Lower number guessing. Try to guess the number in the range of 1 to 100.\"\n",
        "  print(state[\"hint\"])\n",
        "  return state"
      ],
      "metadata": {
        "id": "NrH-3ZXRNo3K"
      },
      "execution_count": 193,
      "outputs": []
    },
    {
      "cell_type": "code",
      "source": [
        "def guess_node(state: GameState) -> GameState:\n",
        "  \"\"\"Generate a smarter guess based on previous hint\"\"\"\n",
        "  try:\n",
        "    possible_guess = int(__builtins__.input(f\"Attempt {state['attempts'] + 1}: Enter your guess: \"))\n",
        "    if possible_guess < state[\"lower_bound\"] or possible_guess > state[\"higher_bound\"]:\n",
        "      state[\"hint\"] = f\"Dude, you shoule know the range of number is between {state['lower_bound']} and {state['higher_bound']}. Try guessing again.\"\n",
        "      print(state[\"hint\"])\n",
        "      return state\n",
        "    if possible_guess in state[\"guesses\"]:\n",
        "      state[\"hint\"] = f\"You have already guessed {possible_guess}. Try a different number, dude. You're not dumb 😑\"\n",
        "      print(state[\"hint\"])\n",
        "      return state\n",
        "\n",
        "    # Thêm valid guess:\n",
        "    state[\"guesses\"].append(possible_guess)\n",
        "    state[\"attempts\"] += 1\n",
        "  except Exception as e:\n",
        "    state[\"hint\"] = \"Invalid guess, dude. You need to guess a number! Guess again.\"\n",
        "    print(state[\"hint\"])\n",
        "    return state\n",
        "\n",
        "  return state"
      ],
      "metadata": {
        "id": "wLBLrRuQNo1b"
      },
      "execution_count": 194,
      "outputs": []
    },
    {
      "cell_type": "code",
      "source": [
        "def check_guess(state: GameState) -> GameState:\n",
        "  \"\"\"\n",
        "  Check if the guess is correct, too high, or too low\n",
        "  \"\"\"\n",
        "  if not state['guesses']:\n",
        "    return state\n",
        "\n",
        "  current_guess = state[\"guesses\"][-1]\n",
        "  target_number = state[\"target_number\"]\n",
        "\n",
        "  if current_guess == target_number:\n",
        "    state[\"hint\"] = f\"Congrats. The number is {target_number}, you guess is correct, pal. You win! 🎊\"\n",
        "    state[\"game_over\"] = True # Set game_over to True on win\n",
        "    state[\"won\"] = True\n",
        "    print(state[\"hint\"])\n",
        "    return state\n",
        "\n",
        "  if current_guess < target_number:\n",
        "    state[\"lower_bound\"] = max(state[\"lower_bound\"], current_guess + 1)\n",
        "    state[\"hint\"] = \"Too low, dude. Try again.\"\n",
        "  else:\n",
        "    state[\"higher_bound\"] = min(state[\"higher_bound\"], current_guess - 1) # Corrected typo here\n",
        "    state[\"hint\"] = \"Too high, dude. Try again.\"\n",
        "  print(state[\"hint\"])\n",
        "  return state"
      ],
      "metadata": {
        "id": "D1UhZQ6rNozw"
      },
      "execution_count": 195,
      "outputs": []
    },
    {
      "cell_type": "code",
      "source": [
        "def check_game_over(state: GameState) -> GameState:\n",
        "  \"\"\"Check to see if the game should end due to too many attempts\"\"\"\n",
        "  max_attempts = 7\n",
        "  if state[\"attempts\"] >= max_attempts and not state[\"won\"]:\n",
        "        state[\"hint\"] = f\"Game Over! You've used all {max_attempts} attempts. The number was {state['target_number']}.\"\n",
        "        state[\"game_over\"] = True # Ensure game_over is True when attempts run out\n",
        "        state[\"won\"] = False  # Để thành False tượng trưng cho việc thua\n",
        "        print(state[\"hint\"])\n",
        "  elif state[\"attempts\"] < max_attempts and not state[\"game_over\"]:\n",
        "        # Hiện ra còn bao nhiêu lần thử nữa\n",
        "        remaining = max_attempts - state[\"attempts\"]\n",
        "        print(f\"You have {remaining} attempts remaining.\")\n",
        "\n",
        "  return state"
      ],
      "metadata": {
        "id": "3UVR8KBgNoxw"
      },
      "execution_count": 196,
      "outputs": []
    },
    {
      "cell_type": "code",
      "source": [
        "def end_game(state: GameState) -> GameState:\n",
        "  \"\"\"End game\"\"\"\n",
        "  if state[\"won\"]:\n",
        "    print(f\"Again, congratulations! You, player {state['player_name']}, have won the game in {state['attempts']} guesses! 🎉\")\n",
        "  else:\n",
        "    print(\"Ah, you lose. Better luck next time. 🤡\")\n",
        "\n",
        "  print(f\"Your guesses were: {state['guesses']}\")\n",
        "  print(f\"Total attempts used: {state['attempts']}/7\")\n",
        "  return state"
      ],
      "metadata": {
        "id": "W0JfigLENowJ"
      },
      "execution_count": 197,
      "outputs": []
    },
    {
      "cell_type": "code",
      "source": [
        "def should_continue(state: GameState) -> Literal[\"inf_loop\", \"end_game\"]:\n",
        "  \"\"\"Determined the next node based on the game state\"\"\"\n",
        "  if state[\"game_over\"]:\n",
        "    return \"end_game\"\n",
        "  else:\n",
        "    return \"inf_loop\""
      ],
      "metadata": {
        "id": "G8PHYzwSNorr"
      },
      "execution_count": 198,
      "outputs": []
    },
    {
      "cell_type": "code",
      "source": [
        "def create_game_graph(state: GameState) -> GameState:\n",
        "  game = StateGraph(GameState)\n",
        "\n",
        "  game.add_node(\"initialize\", initialize_game)\n",
        "  game.add_node(\"get_guess\", guess_node)\n",
        "  game.add_node(\"check_guess\", check_guess)\n",
        "  game.add_node(\"is_jover?\", check_game_over)\n",
        "  game.add_node(\"the_end\", end_game)\n",
        "\n",
        "  game.set_entry_point(\"initialize\")\n",
        "  game.add_edge(\"initialize\", \"get_guess\")\n",
        "  game.add_edge(\"get_guess\", \"check_guess\")\n",
        "  game.add_edge(\"check_guess\", \"is_jover?\")\n",
        "\n",
        "  game.add_conditional_edges(\n",
        "      \"is_jover?\",\n",
        "      should_continue,\n",
        "      {\n",
        "          \"inf_loop\": \"get_guess\",\n",
        "          \"end_game\": \"the_end\"\n",
        "      }\n",
        "  )\n",
        "\n",
        "  game.add_edge(\"the_end\", END)\n",
        "  return game.compile()"
      ],
      "metadata": {
        "id": "71qp0c23Noow"
      },
      "execution_count": 199,
      "outputs": []
    },
    {
      "cell_type": "code",
      "source": [
        "from IPython.display import Image, display\n",
        "game_graph_object = create_game_graph({}) # Pass an empty dictionary as the initial state\n",
        "display(Image(game_graph_object.get_graph().draw_mermaid_png(max_retries=3, retry_delay=2.0)))"
      ],
      "metadata": {
        "colab": {
          "base_uri": "https://localhost:8080/",
          "height": 671
        },
        "id": "5V1ZiDqCNonP",
        "outputId": "78c676ee-b1ea-4c4e-fa63-828291bcafe1"
      },
      "execution_count": 200,
      "outputs": [
        {
          "output_type": "display_data",
          "data": {
            "image/png": "[encoded data removed]",
            "text/plain": [
              "<IPython.core.display.Image object>"
            ]
          },
          "metadata": {}
        }
      ]
    },
    {
      "cell_type": "code",
      "source": [
        "print(type(input))"
      ],
      "metadata": {
        "colab": {
          "base_uri": "https://localhost:8080/"
        },
        "id": "PG7kETUiqpks",
        "outputId": "3ca4997e-7b49-4102-9414-a958c459040c"
      },
      "execution_count": 201,
      "outputs": [
        {
          "output_type": "stream",
          "name": "stdout",
          "text": [
            "<class 'dict'>\n"
          ]
        }
      ]
    },
    {
      "cell_type": "code",
      "source": [
        "def play_game():\n",
        "  player_name = __builtins__.input(\"What's your name? \")\n",
        "\n",
        "  starting_state = {\n",
        "        \"player_name\": player_name,\n",
        "        \"hint\": \"\",\n",
        "        \"target_number\": 0,\n",
        "        \"guesses\": [],\n",
        "        \"attempts\": 0,\n",
        "        \"lower_bound\": 1,\n",
        "        \"higher_bound\": 100,\n",
        "        \"game_over\": False,\n",
        "        \"won\": False\n",
        "  }\n",
        "  config = RunnableConfig(recursion_limit=50)\n",
        "  result = game_graph_object.invoke(starting_state, config)\n",
        "  return result\n",
        "  print(result)\n",
        "\n",
        "# Chạy game thôi\n",
        "if __name__ == \"__main__\":\n",
        "    print(\"Welcome to the Higher-Lower Number Guessing Game!\")\n",
        "    print(\"=\" * 50)\n",
        "    play_game()"
      ],
      "metadata": {
        "colab": {
          "base_uri": "https://localhost:8080/"
        },
        "id": "_yRhVgqNNolY",
        "outputId": "4a79f3fe-caf5-4f44-f53c-bdb7c3592d3b"
      },
      "execution_count": 202,
      "outputs": [
        {
          "output_type": "stream",
          "name": "stdout",
          "text": [
            "Welcome to the Higher-Lower Number Guessing Game!\n",
            "==================================================\n",
            "What's your name? Chinh\n",
            "Hi Chinh. I want to introduce you to this game. It's called Higher-Lower number guessing. Try to guess the number in the range of 1 to 100.\n",
            "Attempt 1: Enter your guess: 42\n",
            "Too high, dude. Try again.\n",
            "You have 6 attempts remaining.\n",
            "Attempt 2: Enter your guess: 40\n",
            "Congrats. The number is 40, you guess is correct, pal. You win! 🎊\n",
            "Again, congratulations! You, player Chinh, have won the game in 2 guesses! 🎉\n",
            "Your guesses were: [42, 40]\n",
            "Total attempts used: 2/7\n"
          ]
        }
      ]
    }
  ]
}