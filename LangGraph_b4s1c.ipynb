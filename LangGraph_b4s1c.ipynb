{
  "nbformat": 4,
  "nbformat_minor": 0,
  "metadata": {
    "colab": {
      "provenance": [],
      "authorship_tag": "ABX9TyNpUZ1n3zBVemy+1AuemBI4",
      "include_colab_link": true
    },
    "kernelspec": {
      "name": "python3",
      "display_name": "Python 3"
    },
    "language_info": {
      "name": "python"
    }
  },
  "cells": [
    {
      "cell_type": "markdown",
      "metadata": {
        "id": "view-in-github",
        "colab_type": "text"
      },
      "source": [
        "<a href=\"https://colab.research.google.com/github/UselessEntity/langgraph_b4s1c/blob/master/LangGraph_b4s1c.ipynb\" target=\"_parent\"><img src=\"https://colab.research.google.com/assets/colab-badge.svg\" alt=\"Open In Colab\"/></a>"
      ]
    },
    {
      "cell_type": "code",
      "execution_count": null,
      "metadata": {
        "id": "-b5whJd8Av3z"
      },
      "outputs": [],
      "source": [
        "!pip install --upgrade --quiet pip\n",
        "!pip install --upgrade langchain langgraph langchain-core langchain-community langsmith langgraph-cli langchain-openai langchain-anthropic langchain-xai\n",
        "!pip install --upgrade transformers datasets bitsandbytes\n",
        "!pip install git"
      ]
    },
    {
      "cell_type": "code",
      "source": [
        "from google.colab import userdata\n",
        "userdata.get('GITHUB_TOKEN')"
      ],
      "metadata": {
        "id": "bwX0JAlwCBLd"
      },
      "execution_count": null,
      "outputs": []
    },
    {
      "cell_type": "code",
      "source": [
        "import os\n",
        "import operator\n",
        "from langgraph.graph import StateGraph, START, END\n",
        "from typing import TypedDict, Dict, List"
      ],
      "metadata": {
        "id": "1lOTxrN9CBJN"
      },
      "execution_count": null,
      "outputs": []
    },
    {
      "cell_type": "markdown",
      "source": [
        "# I. State, Graph, Node đơn giản"
      ],
      "metadata": {
        "id": "v4IY_TdGCJpS"
      }
    },
    {
      "cell_type": "code",
      "source": [
        "# Một State đơn giản:\n",
        "class GameState(TypedDict):\n",
        "  game: str\n",
        "  message: str\n",
        "  message_2: str\n",
        "\n",
        "# Tạo một node đơn giản:\n",
        "def game_node(state: GameState) -> GameState: # Cái này là cập nhật & trả về trạng thái State sau khi cập nhật\n",
        "  \"\"\"Node đơn giản để thêm thông tin về games\"\"\"\n",
        "\n",
        "  state['message'] = \"Hey \" + state['message'] + \", wanna play some games?\"\n",
        "  return state\n",
        "\n",
        "def new_game(state: GameState) -> GameState:\n",
        "  game = state['game']\n",
        "  state['message_2'] = f\"Let's play {game}!\"\n",
        "  return state"
      ],
      "metadata": {
        "id": "QdWoWRLcCBG7"
      },
      "execution_count": null,
      "outputs": []
    },
    {
      "cell_type": "code",
      "source": [
        "# Để là workflow, builder hay gì cũng đc, chỉ cần gắn giá trị đúng thôi\n",
        "builder = StateGraph(GameState)\n",
        "\n",
        "builder.add_node(\"Game\", game_node) # Thêm node phải có 2 giá trị: Tên của node & node hiện tại\n",
        "builder.add_node(\"Tekken_8\", new_game)\n",
        "\n",
        "builder.add_edge(\"Game\", \"Tekken_8\")\n",
        "builder.add_edge(\"Tekken_8\", END)"
      ],
      "metadata": {
        "id": "q0buvJtRCBER"
      },
      "execution_count": null,
      "outputs": []
    },
    {
      "cell_type": "code",
      "source": [
        "# Thêm node khởi chạy & node cuối trình chạy của graph (chưa phải END node)\n",
        "builder.set_entry_point(\"Game\")\n",
        "builder.set_finish_point(\"Tekken_8\")\n",
        "\n",
        "game_console = builder.compile() # Bắt buộc phải có compile thì sau đó mới chạy được code"
      ],
      "metadata": {
        "id": "MO0I5KnACBBw"
      },
      "execution_count": null,
      "outputs": []
    },
    {
      "cell_type": "code",
      "source": [
        "from IPython.display import Image, display\n",
        "display(Image(game_console.get_graph().draw_mermaid_png(max_retries=3, retry_delay=2.0)))"
      ],
      "metadata": {
        "id": "-uvwbR8mCA_I"
      },
      "execution_count": null,
      "outputs": []
    },
    {
      "cell_type": "code",
      "source": [
        "result = game_console.invoke({\"message\": \"Narrator\", \"game\": \"Tekken_8\"}) # Chạy graph vừa được khởi tạo\n",
        "print(result)"
      ],
      "metadata": {
        "id": "-p_piySbCA8w"
      },
      "execution_count": null,
      "outputs": []
    },
    {
      "cell_type": "markdown",
      "source": [
        "# Áp dụng làm một task với State đơn giản"
      ],
      "metadata": {
        "id": "lkUqtcIXCUBD"
      }
    },
    {
      "cell_type": "code",
      "source": [
        "# Tạo State\n",
        "class Task1State(TypedDict):\n",
        "  current_node: str\n",
        "  name: str\n",
        "  compliment: str\n",
        "\n",
        "# Tạo ra node\n",
        "def compliment_setup(state: Task1State) -> Task1State:\n",
        "    \"\"\"\n",
        "    Tạo ra node đơn giản để thực hiện task\n",
        "    Task ở đây: Tạo ra một Personalized Compliment Agent\n",
        "    Input: {name: \"Bob\"}\n",
        "    Output: \"Bob, you're doing an amazing job at learning Langgraph!\"\n",
        "    \"\"\"\n",
        "    # print(state)\n",
        "    name = state['name']\n",
        "    state['compliment'] = f\"Hey {state['name']}, you're doing an amazing job at learning Langgraph! Your curent node is: {state['current_node']}\"\n",
        "    # print(state)\n",
        "    return state\n",
        "\n",
        "# Tạo ra graph workflow chính\n",
        "workflow = StateGraph(Task1State)\n",
        "\n",
        "workflow.add_node(\"Compliment\", compliment_setup)\n",
        "\n",
        "workflow.set_entry_point(\"Compliment\")\n",
        "\n",
        "workflow.add_edge(\"Compliment\", END)\n",
        "\n",
        "new_compliment = workflow.compile()"
      ],
      "metadata": {
        "id": "62uil1XMCA6g"
      },
      "execution_count": null,
      "outputs": []
    },
    {
      "cell_type": "code",
      "source": [
        "# Show flow dưới dạng graph\n",
        "from IPython.display import Image, display\n",
        "display(Image(new_compliment.get_graph().draw_mermaid_png(max_retries=3, retry_delay=2.0)))"
      ],
      "metadata": {
        "id": "eUeVpSRMCA4A"
      },
      "execution_count": null,
      "outputs": []
    },
    {
      "cell_type": "code",
      "source": [
        "# Invoke để chạy graph (vì đây là workflow), chứ ko phải chạy State\n",
        "def invoke_result(input_data: dict) -> str:\n",
        "  result = new_compliment.invoke(input_data)\n",
        "  return result['compliment']\n",
        "\n",
        "input = {\"name\": \"Bob\", \"current_node\": \"Compliment\"}\n",
        "output = invoke_result(input)\n",
        "print(output)"
      ],
      "metadata": {
        "id": "Fp532v0uCA1n"
      },
      "execution_count": null,
      "outputs": []
    },
    {
      "cell_type": "markdown",
      "source": [
        "# Nâng cao hơn chút (Graph với nhiều inputs, sử dụng nhiều State cùng lúc,...)"
      ],
      "metadata": {
        "id": "mduiZ8lVCd2y"
      }
    },
    {
      "cell_type": "code",
      "source": [
        "class AgeState(TypedDict):\n",
        "  name: str\n",
        "  values: list[int]\n",
        "  operation: str\n",
        "  result: str\n",
        "\n",
        "def node_1(state: AgeState) -> AgeState:\n",
        "  name = state['name']\n",
        "  values = state['values']\n",
        "  operation = state['operation']\n",
        "\n",
        "  if operation == \"+\":\n",
        "    result = sum(values)\n",
        "  elif operation == \"*\":\n",
        "    result = 1\n",
        "    for num in values:\n",
        "      result *= num\n",
        "  else:\n",
        "    result = 0\n",
        "\n",
        "  state['result'] = f\"Hi {state['name']}. You're {result} years old.\"\n",
        "  return state\n",
        "\n",
        "workflow = StateGraph(AgeState)\n",
        "\n",
        "workflow.add_node(\"calculation_node\", node_1)\n",
        "\n",
        "workflow.set_entry_point(\"calculation_node\")\n",
        "\n",
        "workflow.add_edge(\"calculation_node\", END)\n",
        "\n",
        "human_age = workflow.compile()"
      ],
      "metadata": {
        "id": "rRPa4oE-CAzP"
      },
      "execution_count": null,
      "outputs": []
    },
    {
      "cell_type": "code",
      "source": [
        "from IPython.display import Image, display\n",
        "display(Image(human_age.get_graph().draw_mermaid_png(max_retries=3, retry_delay=2.0)))"
      ],
      "metadata": {
        "id": "SD38DlPLCAmX"
      },
      "execution_count": null,
      "outputs": []
    },
    {
      "cell_type": "code",
      "source": [
        "input_data = {\n",
        "    \"name\": \"Jack\",\n",
        "    \"values\": [1,2,3,5],\n",
        "    \"operation\": \"*\"\n",
        "}\n",
        "\n",
        "input_data_2 = {\n",
        "    \"name\": \"Jack\",\n",
        "    \"values\": [1,2,3,5],\n",
        "    \"operation\": \"+\"\n",
        "}\n",
        "\n",
        "result = human_age.invoke(input_data_2)\n",
        "print(result['result'])"
      ],
      "metadata": {
        "id": "p59XJScFCgFb"
      },
      "execution_count": null,
      "outputs": []
    },
    {
      "cell_type": "code",
      "source": [
        "class AgentState(TypedDict):\n",
        "  name: str\n",
        "  age: str\n",
        "  result: str"
      ],
      "metadata": {
        "id": "agg8AjcSCgDA"
      },
      "execution_count": null,
      "outputs": []
    },
    {
      "cell_type": "code",
      "source": [
        "def first_node(state: AgentState) -> AgentState:\n",
        "  \"\"\"Node đầu tiên trong chuỗi\"\"\"\n",
        "  state['result'] = f\"Hi {state['name']}.\"\n",
        "  return state\n",
        "\n",
        "def second_node(state: AgentState) -> AgentState:\n",
        "  \"\"\"Node thứ hai trong chuỗi\"\"\"\n",
        "  state['result'] = state['result'] + f\"You're {state['age']} years old.\" # Kết hợp hai node với nhau cùng lúc\n",
        "  return state"
      ],
      "metadata": {
        "id": "VBVZxCWkCgAu"
      },
      "execution_count": null,
      "outputs": []
    },
    {
      "cell_type": "code",
      "source": [
        "graph_builder = StateGraph(AgentState)\n",
        "\n",
        "graph_builder.add_node(\"first_node\", first_node)\n",
        "graph_builder.add_node(\"second_node\", second_node)\n",
        "\n",
        "graph_builder.set_entry_point(\"first_node\")\n",
        "\n",
        "graph_builder.add_edge(\"first_node\", \"second_node\")\n",
        "graph_builder.set_finish_point(\"second_node\")\n",
        "\n",
        "agent_graph = graph_builder.compile()"
      ],
      "metadata": {
        "id": "zYvD1hPqCf-G"
      },
      "execution_count": null,
      "outputs": []
    },
    {
      "cell_type": "code",
      "source": [
        "from IPython.display import Image, display\n",
        "display(Image(agent_graph.get_graph().draw_mermaid_png(max_retries=3, retry_delay=2.0)))"
      ],
      "metadata": {
        "id": "mahqZ6NzCf7n"
      },
      "execution_count": null,
      "outputs": []
    },
    {
      "cell_type": "code",
      "source": [
        "result = agent_graph.invoke({\"name\": \"Bob\", \"age\": \"21\"})\n",
        "print(result['result'])"
      ],
      "metadata": {
        "id": "NVZJxPIVCf5e"
      },
      "execution_count": null,
      "outputs": []
    },
    {
      "cell_type": "code",
      "source": [
        "class UserState(TypedDict):\n",
        "  name: str\n",
        "  age: str\n",
        "  skills: str\n",
        "  skills_list: List[str] # Add a new key for the input skills list\n",
        "\n",
        "def name_node(state: UserState) -> UserState:\n",
        "  name = state['name']\n",
        "  state['skills'] = f\"Hi {name}. Gladly meeting you here.\"\n",
        "  return state\n",
        "\n",
        "def age_node(state: UserState) -> UserState:\n",
        "  age = state['age']\n",
        "  state['skills'] = state['skills'] + f\" You're {age} years old. You died young and got reincarnated to this new world.\"\n",
        "  return state\n",
        "\n",
        "def skill_node(state: UserState) -> UserState:\n",
        "  # Use the skills_list from the input\n",
        "  skills = \", \".join(state['skills_list'])\n",
        "  state['skills'] = state['skills'] + f\" You can choose these new skills: {skills} to start at this world.\"\n",
        "  return state\n",
        "\n",
        "isekai = StateGraph(UserState)\n",
        "\n",
        "isekai.add_node(\"name_node\", name_node)\n",
        "isekai.add_node(\"age_node\", age_node)\n",
        "isekai.add_node(\"skill_node\", skill_node)\n",
        "\n",
        "isekai.set_entry_point(\"name_node\")\n",
        "\n",
        "isekai.add_edge(\"name_node\", \"age_node\")\n",
        "isekai.add_edge(\"age_node\", \"skill_node\")\n",
        "isekai.set_finish_point(\"skill_node\")\n",
        "\n",
        "isekai_character = isekai.compile()"
      ],
      "metadata": {
        "id": "UlqHJ0dHCpWC"
      },
      "execution_count": null,
      "outputs": []
    },
    {
      "cell_type": "code",
      "source": [
        "from IPython.display import Image, display\n",
        "display(Image(isekai_character.get_graph().draw_mermaid_png(max_retries=3, retry_delay=2.0)))"
      ],
      "metadata": {
        "id": "OE52yDSCCpTo"
      },
      "execution_count": null,
      "outputs": []
    },
    {
      "cell_type": "code",
      "source": [
        "input_data = {\n",
        "    \"name\": \"Jachiru\",\n",
        "    \"age\": \"38\",\n",
        "    \"skills_list\": [\"self_heal\", \"power_up_x100\", \"big_brain\", \"thief\", \"all_seeing\"]\n",
        "}\n",
        "\n",
        "new_character = isekai_character.invoke(input_data)\n",
        "print(new_character['skills'])"
      ],
      "metadata": {
        "id": "0Xoh-r5XCpRP"
      },
      "execution_count": null,
      "outputs": []
    },
    {
      "cell_type": "markdown",
      "source": [
        "# Router + conditional edges"
      ],
      "metadata": {
        "id": "aPYQKrA5C1sm"
      }
    },
    {
      "cell_type": "code",
      "source": [
        "class MathState(TypedDict):\n",
        "  number_1: int\n",
        "  number_2: int\n",
        "  operation: str\n",
        "  final_number: int"
      ],
      "metadata": {
        "id": "zNLvfnKZCpO-"
      },
      "execution_count": null,
      "outputs": []
    },
    {
      "cell_type": "code",
      "source": [
        "def addition(state: MathState) -> MathState:\n",
        "  \"\"\"\n",
        "  Cộng 2 số với nhau\n",
        "  \"\"\"\n",
        "  state['final_number'] = state['number_1'] + state['number_2']\n",
        "  return state\n",
        "\n",
        "def substraction(state: MathState) -> MathState:\n",
        "  \"\"\" Trừ 2 số với nhau \"\"\"\n",
        "  state['final_number'] = state['number_1'] - state['number_2']\n",
        "  return state\n",
        "\n",
        "def decide_next_node(state: MathState) -> MathState:\n",
        "  \"\"\" Node để chọn các node tiếp theo cho graph \"\"\"\n",
        "  if state['operation'] == \"+\":\n",
        "    return \"additional_node\"\n",
        "  elif state['operation'] == \"-\":\n",
        "    return \"subtraction_node\"\n",
        "\n",
        "graph = StateGraph(MathState)\n",
        "\n",
        "graph.add_node(\"add_node\", addition)\n",
        "graph.add_node(\"subtract_node\", substraction)\n",
        "graph.add_node(\"router\", lambda state:state) # Passthrough function\n",
        "\n",
        "graph.add_edge(START, \"router\")\n",
        "\n",
        "graph.add_conditional_edges(\n",
        "    \"router\",\n",
        "    decide_next_node,\n",
        "    {\n",
        "        \"Plus\": \"add_node\",\n",
        "        \"Minus\": \"subtract_node\"\n",
        "    }\n",
        ")\n",
        "\n",
        "graph.add_edge(\"add_node\", END)\n",
        "graph.add_edge(\"subtract_node\", END)\n",
        "\n",
        "app = graph.compile()"
      ],
      "metadata": {
        "id": "UGBgoWR5CpMe"
      },
      "execution_count": null,
      "outputs": []
    },
    {
      "cell_type": "code",
      "source": [
        "from IPython.display import Image, display\n",
        "display(Image(app.get_graph().draw_mermaid_png(max_retries=3, retry_delay=2.0)))"
      ],
      "metadata": {
        "id": "wUb87_eSC2_L"
      },
      "execution_count": null,
      "outputs": []
    },
    {
      "cell_type": "code",
      "source": [],
      "metadata": {
        "id": "3v5emo1EC25f"
      },
      "execution_count": null,
      "outputs": []
    },
    {
      "cell_type": "code",
      "source": [],
      "metadata": {
        "id": "28ZHNMSgC22-"
      },
      "execution_count": null,
      "outputs": []
    },
    {
      "cell_type": "code",
      "source": [],
      "metadata": {
        "id": "7_WiLLesC20l"
      },
      "execution_count": null,
      "outputs": []
    }
  ]
}